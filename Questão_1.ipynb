{
  "nbformat": 4,
  "nbformat_minor": 0,
  "metadata": {
    "colab": {
      "provenance": [],
      "toc_visible": true
    },
    "kernelspec": {
      "name": "python3",
      "display_name": "Python 3"
    },
    "language_info": {
      "name": "python"
    }
  },
  "cells": [
    {
      "cell_type": "markdown",
      "source": [
        "# Imports\n"
      ],
      "metadata": {
        "id": "YiUoZwOpLCLy"
      }
    },
    {
      "cell_type": "code",
      "execution_count": null,
      "metadata": {
        "id": "bYIKPFWDBkVK"
      },
      "outputs": [],
      "source": [
        "import pandas as pd\n",
        "import numpy as np\n",
        "import matplotlib.pyplot as plt\n",
        "import seaborn as sns\n"
      ]
    },
    {
      "cell_type": "markdown",
      "source": [
        "# Leitura dos dados\n"
      ],
      "metadata": {
        "id": "fBK-dVPmLSGl"
      }
    },
    {
      "cell_type": "code",
      "source": [
        "df_ofertas = pd.read_csv('ofertas_relampago.csv')"
      ],
      "metadata": {
        "id": "fkejZADQEGiJ"
      },
      "execution_count": null,
      "outputs": []
    },
    {
      "cell_type": "markdown",
      "source": [],
      "metadata": {
        "id": "ivXabB2GtFuE"
      }
    },
    {
      "cell_type": "markdown",
      "source": [
        "# Criação de colunas relevantes para a análise"
      ],
      "metadata": {
        "id": "Zr43ufvQMt0J"
      }
    },
    {
      "cell_type": "code",
      "source": [
        "df_ofertas['REMAINING_STOCK_PERCENTAGE'] = df_ofertas['REMAINING_STOCK_AFTER_END']/df_ofertas['INVOLVED_STOCK']"
      ],
      "metadata": {
        "id": "LqXv1Yr7MxhN"
      },
      "execution_count": null,
      "outputs": []
    },
    {
      "cell_type": "code",
      "source": [
        "df_ofertas['UNIT_VALUE'] = df_ofertas['SOLD_AMOUNT']/df_ofertas['SOLD_QUANTITY']"
      ],
      "metadata": {
        "id": "W3vYqjAzNWdG"
      },
      "execution_count": null,
      "outputs": []
    },
    {
      "cell_type": "code",
      "source": [
        "df_ofertas"
      ],
      "metadata": {
        "colab": {
          "base_uri": "https://localhost:8080/",
          "height": 617
        },
        "id": "lHJPfn008Z1b",
        "outputId": "e613dafb-2872-4d38-cb20-e2e363c57c25"
      },
      "execution_count": null,
      "outputs": [
        {
          "output_type": "execute_result",
          "data": {
            "text/plain": [
              "      OFFER_START_DATE           OFFER_START_DTTM          OFFER_FINISH_DTTM  \\\n",
              "0           2021-06-22  2021-06-22 16:00:00+00:00  2021-06-22 23:02:43+00:00   \n",
              "1           2021-06-22  2021-06-22 13:00:00+00:00  2021-06-22 19:00:02+00:00   \n",
              "2           2021-06-22  2021-06-22 07:00:00+00:00  2021-06-22 13:00:01+00:00   \n",
              "3           2021-06-22  2021-06-22 19:00:00+00:00  2021-06-23 01:36:12+00:00   \n",
              "4           2021-06-22  2021-06-22 13:00:00+00:00  2021-06-22 15:48:12+00:00   \n",
              "...                ...                        ...                        ...   \n",
              "48741       2021-06-19  2021-06-19 13:00:00+00:00  2021-06-19 19:00:01+00:00   \n",
              "48742       2021-06-19  2021-06-19 13:00:00+00:00  2021-06-19 19:00:01+00:00   \n",
              "48743       2021-06-19  2021-06-19 07:00:00+00:00  2021-06-19 13:00:03+00:00   \n",
              "48744       2021-06-19  2021-06-19 13:00:00+00:00  2021-06-19 19:00:00+00:00   \n",
              "48745       2021-06-19  2021-06-19 13:00:00+00:00  2021-06-19 19:00:00+00:00   \n",
              "\n",
              "           OFFER_TYPE  INVOLVED_STOCK  REMAINING_STOCK_AFTER_END  SOLD_AMOUNT  \\\n",
              "0      lightning_deal               4                         -2         4.72   \n",
              "1      lightning_deal               5                          5          NaN   \n",
              "2      lightning_deal              15                         12        10.73   \n",
              "3      lightning_deal              15                         13         7.03   \n",
              "4      lightning_deal              15                          0        39.65   \n",
              "...               ...             ...                        ...          ...   \n",
              "48741  lightning_deal              15                          9        16.28   \n",
              "48742  lightning_deal               5                          5          NaN   \n",
              "48743  lightning_deal               5                          3        16.62   \n",
              "48744  lightning_deal               5                          1        38.79   \n",
              "48745  lightning_deal              15                         15          NaN   \n",
              "\n",
              "       SOLD_QUANTITY ORIGIN SHIPPING_PAYMENT_TYPE DOM_DOMAIN_AGG1  \\\n",
              "0                6.0      A                  none       PETS FOOD   \n",
              "1                NaN    NaN         free_shipping    PET PRODUCTS   \n",
              "2                3.0    NaN                  none       COMPUTERS   \n",
              "3                2.0    NaN                  none       COMPUTERS   \n",
              "4               15.0    NaN                  none       COMPUTERS   \n",
              "...              ...    ...                   ...             ...   \n",
              "48741            6.0    NaN                  none      HOME&DECOR   \n",
              "48742            NaN    NaN         free_shipping      HOME&DECOR   \n",
              "48743            2.0    NaN         free_shipping      HOME&DECOR   \n",
              "48744            4.0    NaN         free_shipping      HOME&DECOR   \n",
              "48745            NaN    NaN         free_shipping      HOME&DECOR   \n",
              "\n",
              "              VERTICAL                       DOMAIN_ID  \\\n",
              "0                  CPG                  MLM-BIRD_FOODS   \n",
              "1               OTHERS     MLM-ANIMAL_AND_PET_PRODUCTS   \n",
              "2                   CE                    MLM-SPEAKERS   \n",
              "3                   CE                  MLM-HEADPHONES   \n",
              "4                   CE                  MLM-HEADPHONES   \n",
              "...                ...                             ...   \n",
              "48741  HOME & INDUSTRY            MLM-CHRISTMAS_LIGHTS   \n",
              "48742  HOME & INDUSTRY        MLM-DECORATIVE_PAINTINGS   \n",
              "48743  HOME & INDUSTRY  MLM-INDOOR_CURTAINS_AND_BLINDS   \n",
              "48744  HOME & INDUSTRY  MLM-INDOOR_CURTAINS_AND_BLINDS   \n",
              "48745  HOME & INDUSTRY                  MLM-BED_SHEETS   \n",
              "\n",
              "       REMAINING_STOCK_PERCENTAGE  UNIT_VALUE  \n",
              "0                       -0.500000    0.786667  \n",
              "1                        1.000000         NaN  \n",
              "2                        0.800000    3.576667  \n",
              "3                        0.866667    3.515000  \n",
              "4                        0.000000    2.643333  \n",
              "...                           ...         ...  \n",
              "48741                    0.600000    2.713333  \n",
              "48742                    1.000000         NaN  \n",
              "48743                    0.600000    8.310000  \n",
              "48744                    0.200000    9.697500  \n",
              "48745                    1.000000         NaN  \n",
              "\n",
              "[48746 rows x 15 columns]"
            ],
            "text/html": [
              "\n",
              "  <div id=\"df-fb968114-7d2d-4954-9755-16cecc1a0c91\" class=\"colab-df-container\">\n",
              "    <div>\n",
              "<style scoped>\n",
              "    .dataframe tbody tr th:only-of-type {\n",
              "        vertical-align: middle;\n",
              "    }\n",
              "\n",
              "    .dataframe tbody tr th {\n",
              "        vertical-align: top;\n",
              "    }\n",
              "\n",
              "    .dataframe thead th {\n",
              "        text-align: right;\n",
              "    }\n",
              "</style>\n",
              "<table border=\"1\" class=\"dataframe\">\n",
              "  <thead>\n",
              "    <tr style=\"text-align: right;\">\n",
              "      <th></th>\n",
              "      <th>OFFER_START_DATE</th>\n",
              "      <th>OFFER_START_DTTM</th>\n",
              "      <th>OFFER_FINISH_DTTM</th>\n",
              "      <th>OFFER_TYPE</th>\n",
              "      <th>INVOLVED_STOCK</th>\n",
              "      <th>REMAINING_STOCK_AFTER_END</th>\n",
              "      <th>SOLD_AMOUNT</th>\n",
              "      <th>SOLD_QUANTITY</th>\n",
              "      <th>ORIGIN</th>\n",
              "      <th>SHIPPING_PAYMENT_TYPE</th>\n",
              "      <th>DOM_DOMAIN_AGG1</th>\n",
              "      <th>VERTICAL</th>\n",
              "      <th>DOMAIN_ID</th>\n",
              "      <th>REMAINING_STOCK_PERCENTAGE</th>\n",
              "      <th>UNIT_VALUE</th>\n",
              "    </tr>\n",
              "  </thead>\n",
              "  <tbody>\n",
              "    <tr>\n",
              "      <th>0</th>\n",
              "      <td>2021-06-22</td>\n",
              "      <td>2021-06-22 16:00:00+00:00</td>\n",
              "      <td>2021-06-22 23:02:43+00:00</td>\n",
              "      <td>lightning_deal</td>\n",
              "      <td>4</td>\n",
              "      <td>-2</td>\n",
              "      <td>4.72</td>\n",
              "      <td>6.0</td>\n",
              "      <td>A</td>\n",
              "      <td>none</td>\n",
              "      <td>PETS FOOD</td>\n",
              "      <td>CPG</td>\n",
              "      <td>MLM-BIRD_FOODS</td>\n",
              "      <td>-0.500000</td>\n",
              "      <td>0.786667</td>\n",
              "    </tr>\n",
              "    <tr>\n",
              "      <th>1</th>\n",
              "      <td>2021-06-22</td>\n",
              "      <td>2021-06-22 13:00:00+00:00</td>\n",
              "      <td>2021-06-22 19:00:02+00:00</td>\n",
              "      <td>lightning_deal</td>\n",
              "      <td>5</td>\n",
              "      <td>5</td>\n",
              "      <td>NaN</td>\n",
              "      <td>NaN</td>\n",
              "      <td>NaN</td>\n",
              "      <td>free_shipping</td>\n",
              "      <td>PET PRODUCTS</td>\n",
              "      <td>OTHERS</td>\n",
              "      <td>MLM-ANIMAL_AND_PET_PRODUCTS</td>\n",
              "      <td>1.000000</td>\n",
              "      <td>NaN</td>\n",
              "    </tr>\n",
              "    <tr>\n",
              "      <th>2</th>\n",
              "      <td>2021-06-22</td>\n",
              "      <td>2021-06-22 07:00:00+00:00</td>\n",
              "      <td>2021-06-22 13:00:01+00:00</td>\n",
              "      <td>lightning_deal</td>\n",
              "      <td>15</td>\n",
              "      <td>12</td>\n",
              "      <td>10.73</td>\n",
              "      <td>3.0</td>\n",
              "      <td>NaN</td>\n",
              "      <td>none</td>\n",
              "      <td>COMPUTERS</td>\n",
              "      <td>CE</td>\n",
              "      <td>MLM-SPEAKERS</td>\n",
              "      <td>0.800000</td>\n",
              "      <td>3.576667</td>\n",
              "    </tr>\n",
              "    <tr>\n",
              "      <th>3</th>\n",
              "      <td>2021-06-22</td>\n",
              "      <td>2021-06-22 19:00:00+00:00</td>\n",
              "      <td>2021-06-23 01:36:12+00:00</td>\n",
              "      <td>lightning_deal</td>\n",
              "      <td>15</td>\n",
              "      <td>13</td>\n",
              "      <td>7.03</td>\n",
              "      <td>2.0</td>\n",
              "      <td>NaN</td>\n",
              "      <td>none</td>\n",
              "      <td>COMPUTERS</td>\n",
              "      <td>CE</td>\n",
              "      <td>MLM-HEADPHONES</td>\n",
              "      <td>0.866667</td>\n",
              "      <td>3.515000</td>\n",
              "    </tr>\n",
              "    <tr>\n",
              "      <th>4</th>\n",
              "      <td>2021-06-22</td>\n",
              "      <td>2021-06-22 13:00:00+00:00</td>\n",
              "      <td>2021-06-22 15:48:12+00:00</td>\n",
              "      <td>lightning_deal</td>\n",
              "      <td>15</td>\n",
              "      <td>0</td>\n",
              "      <td>39.65</td>\n",
              "      <td>15.0</td>\n",
              "      <td>NaN</td>\n",
              "      <td>none</td>\n",
              "      <td>COMPUTERS</td>\n",
              "      <td>CE</td>\n",
              "      <td>MLM-HEADPHONES</td>\n",
              "      <td>0.000000</td>\n",
              "      <td>2.643333</td>\n",
              "    </tr>\n",
              "    <tr>\n",
              "      <th>...</th>\n",
              "      <td>...</td>\n",
              "      <td>...</td>\n",
              "      <td>...</td>\n",
              "      <td>...</td>\n",
              "      <td>...</td>\n",
              "      <td>...</td>\n",
              "      <td>...</td>\n",
              "      <td>...</td>\n",
              "      <td>...</td>\n",
              "      <td>...</td>\n",
              "      <td>...</td>\n",
              "      <td>...</td>\n",
              "      <td>...</td>\n",
              "      <td>...</td>\n",
              "      <td>...</td>\n",
              "    </tr>\n",
              "    <tr>\n",
              "      <th>48741</th>\n",
              "      <td>2021-06-19</td>\n",
              "      <td>2021-06-19 13:00:00+00:00</td>\n",
              "      <td>2021-06-19 19:00:01+00:00</td>\n",
              "      <td>lightning_deal</td>\n",
              "      <td>15</td>\n",
              "      <td>9</td>\n",
              "      <td>16.28</td>\n",
              "      <td>6.0</td>\n",
              "      <td>NaN</td>\n",
              "      <td>none</td>\n",
              "      <td>HOME&amp;DECOR</td>\n",
              "      <td>HOME &amp; INDUSTRY</td>\n",
              "      <td>MLM-CHRISTMAS_LIGHTS</td>\n",
              "      <td>0.600000</td>\n",
              "      <td>2.713333</td>\n",
              "    </tr>\n",
              "    <tr>\n",
              "      <th>48742</th>\n",
              "      <td>2021-06-19</td>\n",
              "      <td>2021-06-19 13:00:00+00:00</td>\n",
              "      <td>2021-06-19 19:00:01+00:00</td>\n",
              "      <td>lightning_deal</td>\n",
              "      <td>5</td>\n",
              "      <td>5</td>\n",
              "      <td>NaN</td>\n",
              "      <td>NaN</td>\n",
              "      <td>NaN</td>\n",
              "      <td>free_shipping</td>\n",
              "      <td>HOME&amp;DECOR</td>\n",
              "      <td>HOME &amp; INDUSTRY</td>\n",
              "      <td>MLM-DECORATIVE_PAINTINGS</td>\n",
              "      <td>1.000000</td>\n",
              "      <td>NaN</td>\n",
              "    </tr>\n",
              "    <tr>\n",
              "      <th>48743</th>\n",
              "      <td>2021-06-19</td>\n",
              "      <td>2021-06-19 07:00:00+00:00</td>\n",
              "      <td>2021-06-19 13:00:03+00:00</td>\n",
              "      <td>lightning_deal</td>\n",
              "      <td>5</td>\n",
              "      <td>3</td>\n",
              "      <td>16.62</td>\n",
              "      <td>2.0</td>\n",
              "      <td>NaN</td>\n",
              "      <td>free_shipping</td>\n",
              "      <td>HOME&amp;DECOR</td>\n",
              "      <td>HOME &amp; INDUSTRY</td>\n",
              "      <td>MLM-INDOOR_CURTAINS_AND_BLINDS</td>\n",
              "      <td>0.600000</td>\n",
              "      <td>8.310000</td>\n",
              "    </tr>\n",
              "    <tr>\n",
              "      <th>48744</th>\n",
              "      <td>2021-06-19</td>\n",
              "      <td>2021-06-19 13:00:00+00:00</td>\n",
              "      <td>2021-06-19 19:00:00+00:00</td>\n",
              "      <td>lightning_deal</td>\n",
              "      <td>5</td>\n",
              "      <td>1</td>\n",
              "      <td>38.79</td>\n",
              "      <td>4.0</td>\n",
              "      <td>NaN</td>\n",
              "      <td>free_shipping</td>\n",
              "      <td>HOME&amp;DECOR</td>\n",
              "      <td>HOME &amp; INDUSTRY</td>\n",
              "      <td>MLM-INDOOR_CURTAINS_AND_BLINDS</td>\n",
              "      <td>0.200000</td>\n",
              "      <td>9.697500</td>\n",
              "    </tr>\n",
              "    <tr>\n",
              "      <th>48745</th>\n",
              "      <td>2021-06-19</td>\n",
              "      <td>2021-06-19 13:00:00+00:00</td>\n",
              "      <td>2021-06-19 19:00:00+00:00</td>\n",
              "      <td>lightning_deal</td>\n",
              "      <td>15</td>\n",
              "      <td>15</td>\n",
              "      <td>NaN</td>\n",
              "      <td>NaN</td>\n",
              "      <td>NaN</td>\n",
              "      <td>free_shipping</td>\n",
              "      <td>HOME&amp;DECOR</td>\n",
              "      <td>HOME &amp; INDUSTRY</td>\n",
              "      <td>MLM-BED_SHEETS</td>\n",
              "      <td>1.000000</td>\n",
              "      <td>NaN</td>\n",
              "    </tr>\n",
              "  </tbody>\n",
              "</table>\n",
              "<p>48746 rows × 15 columns</p>\n",
              "</div>\n",
              "    <div class=\"colab-df-buttons\">\n",
              "\n",
              "  <div class=\"colab-df-container\">\n",
              "    <button class=\"colab-df-convert\" onclick=\"convertToInteractive('df-fb968114-7d2d-4954-9755-16cecc1a0c91')\"\n",
              "            title=\"Convert this dataframe to an interactive table.\"\n",
              "            style=\"display:none;\">\n",
              "\n",
              "  <svg xmlns=\"http://www.w3.org/2000/svg\" height=\"24px\" viewBox=\"0 -960 960 960\">\n",
              "    <path d=\"M120-120v-720h720v720H120Zm60-500h600v-160H180v160Zm220 220h160v-160H400v160Zm0 220h160v-160H400v160ZM180-400h160v-160H180v160Zm440 0h160v-160H620v160ZM180-180h160v-160H180v160Zm440 0h160v-160H620v160Z\"/>\n",
              "  </svg>\n",
              "    </button>\n",
              "\n",
              "  <style>\n",
              "    .colab-df-container {\n",
              "      display:flex;\n",
              "      gap: 12px;\n",
              "    }\n",
              "\n",
              "    .colab-df-convert {\n",
              "      background-color: #E8F0FE;\n",
              "      border: none;\n",
              "      border-radius: 50%;\n",
              "      cursor: pointer;\n",
              "      display: none;\n",
              "      fill: #1967D2;\n",
              "      height: 32px;\n",
              "      padding: 0 0 0 0;\n",
              "      width: 32px;\n",
              "    }\n",
              "\n",
              "    .colab-df-convert:hover {\n",
              "      background-color: #E2EBFA;\n",
              "      box-shadow: 0px 1px 2px rgba(60, 64, 67, 0.3), 0px 1px 3px 1px rgba(60, 64, 67, 0.15);\n",
              "      fill: #174EA6;\n",
              "    }\n",
              "\n",
              "    .colab-df-buttons div {\n",
              "      margin-bottom: 4px;\n",
              "    }\n",
              "\n",
              "    [theme=dark] .colab-df-convert {\n",
              "      background-color: #3B4455;\n",
              "      fill: #D2E3FC;\n",
              "    }\n",
              "\n",
              "    [theme=dark] .colab-df-convert:hover {\n",
              "      background-color: #434B5C;\n",
              "      box-shadow: 0px 1px 3px 1px rgba(0, 0, 0, 0.15);\n",
              "      filter: drop-shadow(0px 1px 2px rgba(0, 0, 0, 0.3));\n",
              "      fill: #FFFFFF;\n",
              "    }\n",
              "  </style>\n",
              "\n",
              "    <script>\n",
              "      const buttonEl =\n",
              "        document.querySelector('#df-fb968114-7d2d-4954-9755-16cecc1a0c91 button.colab-df-convert');\n",
              "      buttonEl.style.display =\n",
              "        google.colab.kernel.accessAllowed ? 'block' : 'none';\n",
              "\n",
              "      async function convertToInteractive(key) {\n",
              "        const element = document.querySelector('#df-fb968114-7d2d-4954-9755-16cecc1a0c91');\n",
              "        const dataTable =\n",
              "          await google.colab.kernel.invokeFunction('convertToInteractive',\n",
              "                                                    [key], {});\n",
              "        if (!dataTable) return;\n",
              "\n",
              "        const docLinkHtml = 'Like what you see? Visit the ' +\n",
              "          '<a target=\"_blank\" href=https://colab.research.google.com/notebooks/data_table.ipynb>data table notebook</a>'\n",
              "          + ' to learn more about interactive tables.';\n",
              "        element.innerHTML = '';\n",
              "        dataTable['output_type'] = 'display_data';\n",
              "        await google.colab.output.renderOutput(dataTable, element);\n",
              "        const docLink = document.createElement('div');\n",
              "        docLink.innerHTML = docLinkHtml;\n",
              "        element.appendChild(docLink);\n",
              "      }\n",
              "    </script>\n",
              "  </div>\n",
              "\n",
              "\n",
              "<div id=\"df-89a15472-11db-465e-ba60-462b2b7b1d64\">\n",
              "  <button class=\"colab-df-quickchart\" onclick=\"quickchart('df-89a15472-11db-465e-ba60-462b2b7b1d64')\"\n",
              "            title=\"Suggest charts\"\n",
              "            style=\"display:none;\">\n",
              "\n",
              "<svg xmlns=\"http://www.w3.org/2000/svg\" height=\"24px\"viewBox=\"0 0 24 24\"\n",
              "     width=\"24px\">\n",
              "    <g>\n",
              "        <path d=\"M19 3H5c-1.1 0-2 .9-2 2v14c0 1.1.9 2 2 2h14c1.1 0 2-.9 2-2V5c0-1.1-.9-2-2-2zM9 17H7v-7h2v7zm4 0h-2V7h2v10zm4 0h-2v-4h2v4z\"/>\n",
              "    </g>\n",
              "</svg>\n",
              "  </button>\n",
              "\n",
              "<style>\n",
              "  .colab-df-quickchart {\n",
              "      --bg-color: #E8F0FE;\n",
              "      --fill-color: #1967D2;\n",
              "      --hover-bg-color: #E2EBFA;\n",
              "      --hover-fill-color: #174EA6;\n",
              "      --disabled-fill-color: #AAA;\n",
              "      --disabled-bg-color: #DDD;\n",
              "  }\n",
              "\n",
              "  [theme=dark] .colab-df-quickchart {\n",
              "      --bg-color: #3B4455;\n",
              "      --fill-color: #D2E3FC;\n",
              "      --hover-bg-color: #434B5C;\n",
              "      --hover-fill-color: #FFFFFF;\n",
              "      --disabled-bg-color: #3B4455;\n",
              "      --disabled-fill-color: #666;\n",
              "  }\n",
              "\n",
              "  .colab-df-quickchart {\n",
              "    background-color: var(--bg-color);\n",
              "    border: none;\n",
              "    border-radius: 50%;\n",
              "    cursor: pointer;\n",
              "    display: none;\n",
              "    fill: var(--fill-color);\n",
              "    height: 32px;\n",
              "    padding: 0;\n",
              "    width: 32px;\n",
              "  }\n",
              "\n",
              "  .colab-df-quickchart:hover {\n",
              "    background-color: var(--hover-bg-color);\n",
              "    box-shadow: 0 1px 2px rgba(60, 64, 67, 0.3), 0 1px 3px 1px rgba(60, 64, 67, 0.15);\n",
              "    fill: var(--button-hover-fill-color);\n",
              "  }\n",
              "\n",
              "  .colab-df-quickchart-complete:disabled,\n",
              "  .colab-df-quickchart-complete:disabled:hover {\n",
              "    background-color: var(--disabled-bg-color);\n",
              "    fill: var(--disabled-fill-color);\n",
              "    box-shadow: none;\n",
              "  }\n",
              "\n",
              "  .colab-df-spinner {\n",
              "    border: 2px solid var(--fill-color);\n",
              "    border-color: transparent;\n",
              "    border-bottom-color: var(--fill-color);\n",
              "    animation:\n",
              "      spin 1s steps(1) infinite;\n",
              "  }\n",
              "\n",
              "  @keyframes spin {\n",
              "    0% {\n",
              "      border-color: transparent;\n",
              "      border-bottom-color: var(--fill-color);\n",
              "      border-left-color: var(--fill-color);\n",
              "    }\n",
              "    20% {\n",
              "      border-color: transparent;\n",
              "      border-left-color: var(--fill-color);\n",
              "      border-top-color: var(--fill-color);\n",
              "    }\n",
              "    30% {\n",
              "      border-color: transparent;\n",
              "      border-left-color: var(--fill-color);\n",
              "      border-top-color: var(--fill-color);\n",
              "      border-right-color: var(--fill-color);\n",
              "    }\n",
              "    40% {\n",
              "      border-color: transparent;\n",
              "      border-right-color: var(--fill-color);\n",
              "      border-top-color: var(--fill-color);\n",
              "    }\n",
              "    60% {\n",
              "      border-color: transparent;\n",
              "      border-right-color: var(--fill-color);\n",
              "    }\n",
              "    80% {\n",
              "      border-color: transparent;\n",
              "      border-right-color: var(--fill-color);\n",
              "      border-bottom-color: var(--fill-color);\n",
              "    }\n",
              "    90% {\n",
              "      border-color: transparent;\n",
              "      border-bottom-color: var(--fill-color);\n",
              "    }\n",
              "  }\n",
              "</style>\n",
              "\n",
              "  <script>\n",
              "    async function quickchart(key) {\n",
              "      const quickchartButtonEl =\n",
              "        document.querySelector('#' + key + ' button');\n",
              "      quickchartButtonEl.disabled = true;  // To prevent multiple clicks.\n",
              "      quickchartButtonEl.classList.add('colab-df-spinner');\n",
              "      try {\n",
              "        const charts = await google.colab.kernel.invokeFunction(\n",
              "            'suggestCharts', [key], {});\n",
              "      } catch (error) {\n",
              "        console.error('Error during call to suggestCharts:', error);\n",
              "      }\n",
              "      quickchartButtonEl.classList.remove('colab-df-spinner');\n",
              "      quickchartButtonEl.classList.add('colab-df-quickchart-complete');\n",
              "    }\n",
              "    (() => {\n",
              "      let quickchartButtonEl =\n",
              "        document.querySelector('#df-89a15472-11db-465e-ba60-462b2b7b1d64 button');\n",
              "      quickchartButtonEl.style.display =\n",
              "        google.colab.kernel.accessAllowed ? 'block' : 'none';\n",
              "    })();\n",
              "  </script>\n",
              "</div>\n",
              "\n",
              "  <div id=\"id_d3c0ea53-aeb3-434f-ba0f-22a10303d8bb\">\n",
              "    <style>\n",
              "      .colab-df-generate {\n",
              "        background-color: #E8F0FE;\n",
              "        border: none;\n",
              "        border-radius: 50%;\n",
              "        cursor: pointer;\n",
              "        display: none;\n",
              "        fill: #1967D2;\n",
              "        height: 32px;\n",
              "        padding: 0 0 0 0;\n",
              "        width: 32px;\n",
              "      }\n",
              "\n",
              "      .colab-df-generate:hover {\n",
              "        background-color: #E2EBFA;\n",
              "        box-shadow: 0px 1px 2px rgba(60, 64, 67, 0.3), 0px 1px 3px 1px rgba(60, 64, 67, 0.15);\n",
              "        fill: #174EA6;\n",
              "      }\n",
              "\n",
              "      [theme=dark] .colab-df-generate {\n",
              "        background-color: #3B4455;\n",
              "        fill: #D2E3FC;\n",
              "      }\n",
              "\n",
              "      [theme=dark] .colab-df-generate:hover {\n",
              "        background-color: #434B5C;\n",
              "        box-shadow: 0px 1px 3px 1px rgba(0, 0, 0, 0.15);\n",
              "        filter: drop-shadow(0px 1px 2px rgba(0, 0, 0, 0.3));\n",
              "        fill: #FFFFFF;\n",
              "      }\n",
              "    </style>\n",
              "    <button class=\"colab-df-generate\" onclick=\"generateWithVariable('df_ofertas')\"\n",
              "            title=\"Generate code using this dataframe.\"\n",
              "            style=\"display:none;\">\n",
              "\n",
              "  <svg xmlns=\"http://www.w3.org/2000/svg\" height=\"24px\"viewBox=\"0 0 24 24\"\n",
              "       width=\"24px\">\n",
              "    <path d=\"M7,19H8.4L18.45,9,17,7.55,7,17.6ZM5,21V16.75L18.45,3.32a2,2,0,0,1,2.83,0l1.4,1.43a1.91,1.91,0,0,1,.58,1.4,1.91,1.91,0,0,1-.58,1.4L9.25,21ZM18.45,9,17,7.55Zm-12,3A5.31,5.31,0,0,0,4.9,8.1,5.31,5.31,0,0,0,1,6.5,5.31,5.31,0,0,0,4.9,4.9,5.31,5.31,0,0,0,6.5,1,5.31,5.31,0,0,0,8.1,4.9,5.31,5.31,0,0,0,12,6.5,5.46,5.46,0,0,0,6.5,12Z\"/>\n",
              "  </svg>\n",
              "    </button>\n",
              "    <script>\n",
              "      (() => {\n",
              "      const buttonEl =\n",
              "        document.querySelector('#id_d3c0ea53-aeb3-434f-ba0f-22a10303d8bb button.colab-df-generate');\n",
              "      buttonEl.style.display =\n",
              "        google.colab.kernel.accessAllowed ? 'block' : 'none';\n",
              "\n",
              "      buttonEl.onclick = () => {\n",
              "        google.colab.notebook.generateWithVariable('df_ofertas');\n",
              "      }\n",
              "      })();\n",
              "    </script>\n",
              "  </div>\n",
              "\n",
              "    </div>\n",
              "  </div>\n"
            ]
          },
          "metadata": {},
          "execution_count": 124
        }
      ]
    },
    {
      "cell_type": "markdown",
      "source": [
        "# Contextualização"
      ],
      "metadata": {
        "id": "2lQCV669tHX4"
      }
    },
    {
      "cell_type": "markdown",
      "source": [
        "Em uma análise desse tipo, podemos ter alguns tipos de interesse. Entre eles:\n",
        "\n",
        "- análise macro para micro: fazer uma análise temporal e identificar dentro das datas, os agrupamentos de produtos, produtos, sub-produtos quais tiveram o pior e melhor desempenho.\n",
        "\n",
        "- análise micro: identificar um produto com melhor/pior desempenho e destrinchar temporalmente o que pode ter gerado tal resultado."
      ],
      "metadata": {
        "id": "v7ZSGMVwtMlK"
      }
    },
    {
      "cell_type": "markdown",
      "source": [
        "## Medidas descritivas básicas"
      ],
      "metadata": {
        "id": "mScJAEEo9lmE"
      }
    },
    {
      "cell_type": "markdown",
      "source": [
        "Fazendo uma leitura rápida, podemos notar que possuímos 61 dias de análise nessa base de dados, 1266 produtos agrupados em 36 categorias."
      ],
      "metadata": {
        "id": "OeurARbdxMlJ"
      }
    },
    {
      "cell_type": "code",
      "source": [
        "df_ofertas['OFFER_START_DATE'].value_counts()"
      ],
      "metadata": {
        "colab": {
          "base_uri": "https://localhost:8080/"
        },
        "id": "pQWxPgKgtMG3",
        "outputId": "473d3eaf-b9af-4a0e-c906-754ec725cf48"
      },
      "execution_count": 106,
      "outputs": [
        {
          "output_type": "execute_result",
          "data": {
            "text/plain": [
              "2021-07-30    1300\n",
              "2021-07-29    1299\n",
              "2021-07-08    1267\n",
              "2021-07-31    1228\n",
              "2021-07-28    1214\n",
              "              ... \n",
              "2021-06-07     426\n",
              "2021-06-06     412\n",
              "2021-06-09     366\n",
              "2021-06-08     317\n",
              "2021-06-30     254\n",
              "Name: OFFER_START_DATE, Length: 61, dtype: int64"
            ]
          },
          "metadata": {},
          "execution_count": 106
        }
      ]
    },
    {
      "cell_type": "code",
      "source": [
        "  df_ofertas['DOMAIN_ID'].value_counts()"
      ],
      "metadata": {
        "colab": {
          "base_uri": "https://localhost:8080/"
        },
        "id": "qmul2TA76024",
        "outputId": "3d5e1749-3cb6-4b1b-a258-ea617d51f7e1"
      },
      "execution_count": 115,
      "outputs": [
        {
          "output_type": "execute_result",
          "data": {
            "text/plain": [
              "MLM-SURGICAL_AND_INDUSTRIAL_MASKS            1759\n",
              "MLM-HEADPHONES                                761\n",
              "MLM-LED_STRIPS                                518\n",
              "MLM-SUNGLASSES                                472\n",
              "MLM-VEHICLE_LED_BULBS                         454\n",
              "                                             ... \n",
              "MLM-INSECT_KILLER_LIGHTS                        1\n",
              "MLM-WATERING_CANS                               1\n",
              "MLM-BASEBALL_AND_SOFTBALL_FIELDING_GLOVES       1\n",
              "MLM-HABERDASHERY_BEADS                          1\n",
              "MLM-ELECTRIC_SANDWICH_MAKERS                    1\n",
              "Name: DOMAIN_ID, Length: 1266, dtype: int64"
            ]
          },
          "metadata": {},
          "execution_count": 115
        }
      ]
    },
    {
      "cell_type": "code",
      "source": [
        "  df_ofertas['DOM_DOMAIN_AGG1'].value_counts()[0:36]"
      ],
      "metadata": {
        "colab": {
          "base_uri": "https://localhost:8080/"
        },
        "id": "05KPNmyN6Zml",
        "outputId": "842efc68-19c3-4b39-be75-886b7d37ca43"
      },
      "execution_count": 114,
      "outputs": [
        {
          "output_type": "execute_result",
          "data": {
            "text/plain": [
              "HOME&DECOR                      6742\n",
              "APPAREL ACCESORIES              4387\n",
              "APPAREL                         3856\n",
              "COMPUTERS                       3770\n",
              "SPORTS                          3289\n",
              "PHARMACEUTICS                   3035\n",
              "ELECTRONICS                     3018\n",
              "PERSONAL CARE                   3016\n",
              "MOBILE                          1841\n",
              "AUTOPARTS                       1696\n",
              "FOOTWEAR                        1516\n",
              "TOOLS AND CONSTRUCTION          1491\n",
              "TOYS AND GAMES                  1426\n",
              "STATIONARY                      1259\n",
              "INDUSTRY                        1199\n",
              "BEAUTY EQUIPMENT                1099\n",
              "FOODS                            858\n",
              "PERSONAL HYGIENE                 840\n",
              "BABY                             801\n",
              "MOTOPARTS                        641\n",
              "BOOKS, MULTIMEDIA & OTHER E!     498\n",
              "PETS FOOD                        487\n",
              "PARTY                            397\n",
              "CLEANING                         360\n",
              "SECURITY                         320\n",
              "PET PRODUCTS                     257\n",
              "SUPLEMENTS                       193\n",
              "BATTERIES                        105\n",
              "VEHICULAR MULTIMEDIA             104\n",
              "ACC TOOLS                         95\n",
              "DRINKS                            64\n",
              "WHEELS & TIRES                    36\n",
              "MUSICAL INSTRUMENTS               27\n",
              "OTHER                             17\n",
              "ANTIQUES & HOBBIES                 5\n",
              "AGRO                               1\n",
              "Name: DOM_DOMAIN_AGG1, dtype: int64"
            ]
          },
          "metadata": {},
          "execution_count": 114
        }
      ]
    },
    {
      "cell_type": "markdown",
      "source": [
        "O estoque remascente relativo pode ser considerado um indicador de sucesso da oferta, já que ter produtos estocados por muito tempo, pode aumentar custos referentes aos centro de distribuições e até mesmo estragar, avariar produtos ou até sair de moda/coleção.\n",
        "\n",
        "Em cerca de 55% dos produtos, foram oferecidos frete grátis. No entanto, os produtos em que foram oferecidos frete grátis não tiveram menor estoque remanescente, como poderia ser esperado."
      ],
      "metadata": {
        "id": "i2mW8tDQ7eVo"
      }
    },
    {
      "cell_type": "code",
      "source": [
        "df_ofertas['SHIPPING_PAYMENT_TYPE'].value_counts(normalize=True)"
      ],
      "metadata": {
        "colab": {
          "base_uri": "https://localhost:8080/"
        },
        "id": "oF7bkyrP7QE3",
        "outputId": "7b8fcd67-cfd9-48cd-d859-d7aafd818a40"
      },
      "execution_count": 120,
      "outputs": [
        {
          "output_type": "execute_result",
          "data": {
            "text/plain": [
              "free_shipping    0.546876\n",
              "none             0.453124\n",
              "Name: SHIPPING_PAYMENT_TYPE, dtype: float64"
            ]
          },
          "metadata": {},
          "execution_count": 120
        }
      ]
    },
    {
      "cell_type": "code",
      "source": [
        "sns.boxplot(data=df_ofertas, x=\"SHIPPING_PAYMENT_TYPE\", y=\"REMAINING_STOCK_PERCENTAGE\",showfliers=False)"
      ],
      "metadata": {
        "colab": {
          "base_uri": "https://localhost:8080/",
          "height": 468
        },
        "id": "JMPKfWEk707v",
        "outputId": "81d03605-2ad7-4f13-d938-20e410610be7"
      },
      "execution_count": 126,
      "outputs": [
        {
          "output_type": "execute_result",
          "data": {
            "text/plain": [
              "<Axes: xlabel='SHIPPING_PAYMENT_TYPE', ylabel='REMAINING_STOCK_PERCENTAGE'>"
            ]
          },
          "metadata": {},
          "execution_count": 126
        },
        {
          "output_type": "display_data",
          "data": {
            "text/plain": [
              "<Figure size 640x480 with 1 Axes>"
            ],
            "image/png": "[encoded data removed]"
          },
          "metadata": {}
        }
      ]
    },
    {
      "cell_type": "markdown",
      "source": [
        "# Análise temporal"
      ],
      "metadata": {
        "id": "aJjgSBffLhax"
      }
    },
    {
      "cell_type": "markdown",
      "source": [
        "\n",
        "Em geral, podemos observar um percentual bem alto de estoque remanescente, o que pode indicar que existe oportunidade de melhora em relação ao planejamento das ofertas."
      ],
      "metadata": {
        "id": "7kbFzbgFjCxF"
      }
    },
    {
      "cell_type": "code",
      "source": [
        "(df_ofertas.groupby('OFFER_START_DATE')['REMAINING_STOCK_AFTER_END'].sum()/df_ofertas.\n",
        " groupby('OFFER_START_DATE')['INVOLVED_STOCK'].sum()).plot()\n",
        "\n",
        "plt.xticks(rotation=90)\n",
        "plt.show()\n"
      ],
      "metadata": {
        "colab": {
          "base_uri": "https://localhost:8080/",
          "height": 516
        },
        "id": "riUKNslDghKl",
        "outputId": "82c313c7-7548-49ce-814e-269edbfed11e"
      },
      "execution_count": 21,
      "outputs": [
        {
          "output_type": "display_data",
          "data": {
            "text/plain": [
              "<Figure size 640x480 with 1 Axes>"
            ],
            "image/png": "[encoded data removed]"
          },
          "metadata": {}
        }
      ]
    },
    {
      "cell_type": "markdown",
      "source": [
        "Em relação ao valor unitário de cada produto, observamos uma mediana próxima de 4 reais."
      ],
      "metadata": {
        "id": "t1CTCFpJzMUc"
      }
    },
    {
      "cell_type": "code",
      "source": [
        "df_ofertas.groupby('OFFER_START_DATE')['UNIT_VALUE'].median().plot()\n",
        "plt.xticks(rotation=90)\n",
        "plt.show()"
      ],
      "metadata": {
        "colab": {
          "base_uri": "https://localhost:8080/",
          "height": 516
        },
        "id": "XSBhtatCySfG",
        "outputId": "a3f70a04-b6ab-4351-d2ed-63cc6f0816f7"
      },
      "execution_count": 72,
      "outputs": [
        {
          "output_type": "display_data",
          "data": {
            "text/plain": [
              "<Figure size 640x480 with 1 Axes>"
            ],
            "image/png": "[encoded data removed]"
          },
          "metadata": {}
        }
      ]
    },
    {
      "cell_type": "markdown",
      "source": [
        "### Datas com melhores desempenhos"
      ],
      "metadata": {
        "id": "nTRvx0TBn0SY"
      }
    },
    {
      "cell_type": "markdown",
      "source": [
        "Abaixo, podemos observar as datas com menor estoque relativo remanescente, o que nos evidencializa as datas com melhores performances de campanha."
      ],
      "metadata": {
        "id": "RE2GU-vhkvfE"
      }
    },
    {
      "cell_type": "code",
      "source": [
        "(df_ofertas.groupby('OFFER_START_DATE')['REMAINING_STOCK_AFTER_END'].sum()/df_ofertas.\n",
        " groupby('OFFER_START_DATE')['INVOLVED_STOCK'].sum()).sort_values()[0:10]\n"
      ],
      "metadata": {
        "colab": {
          "base_uri": "https://localhost:8080/"
        },
        "id": "AhVZFdOwiAjF",
        "outputId": "43e83bf6-a31b-4375-e4ae-9a20f5daf334"
      },
      "execution_count": 24,
      "outputs": [
        {
          "output_type": "execute_result",
          "data": {
            "text/plain": [
              "OFFER_START_DATE\n",
              "2021-07-21    0.743564\n",
              "2021-07-20    0.760835\n",
              "2021-07-16    0.787033\n",
              "2021-07-28    0.795924\n",
              "2021-07-27    0.799111\n",
              "2021-06-15    0.800058\n",
              "2021-07-19    0.800499\n",
              "2021-06-23    0.811034\n",
              "2021-07-18    0.821728\n",
              "2021-06-14    0.830971\n",
              "dtype: float64"
            ]
          },
          "metadata": {},
          "execution_count": 24
        }
      ]
    },
    {
      "cell_type": "markdown",
      "source": [
        "Uma dúvida natural, seria investigar a relação entre a quantidade de estoque remanescente com o preço unitário dos itens. Ou seja, será que dias em que temos produtos mais baratos sendo vendidos, temos também uma diminuição de estoque remanescente. Ao fazer essa investigação, vemos que a correlação entre essas duas variáveis é baixa (0.19), refutando essa hipótese, pelo menos de maneira ampla. Ainda pode ser que isso seja verdade em um zoom de um único produto."
      ],
      "metadata": {
        "id": "qVOqfJOJ0Ko2"
      }
    },
    {
      "cell_type": "code",
      "source": [
        "np.corrcoef((df_ofertas.groupby('OFFER_START_DATE')['REMAINING_STOCK_AFTER_END'].sum()/df_ofertas.\n",
        " groupby('OFFER_START_DATE')['INVOLVED_STOCK'].sum()), (df_ofertas.groupby('OFFER_START_DATE')['UNIT_VALUE'].median()))"
      ],
      "metadata": {
        "colab": {
          "base_uri": "https://localhost:8080/"
        },
        "id": "qkLTFl1rx-v4",
        "outputId": "ed72eaf0-9fa6-4e42-c970-f49e027c6488"
      },
      "execution_count": 79,
      "outputs": [
        {
          "output_type": "execute_result",
          "data": {
            "text/plain": [
              "array([[1.        , 0.19532955],\n",
              "       [0.19532955, 1.        ]])"
            ]
          },
          "metadata": {},
          "execution_count": 79
        }
      ]
    },
    {
      "cell_type": "markdown",
      "source": [
        "Outra hipótese que podemos investigar é se existe relação entre o frete grátis e o estoque remascente relativo. Porém, a correlação entre o % de produtos com frete grátis e o % de estoque remanescente também é baixa, refutando essa hipótese."
      ],
      "metadata": {
        "id": "LOmEQGjR14wj"
      }
    },
    {
      "cell_type": "code",
      "source": [
        "np.corrcoef((df_ofertas.groupby('OFFER_START_DATE')['REMAINING_STOCK_AFTER_END'].sum()/df_ofertas.\n",
        " groupby('OFFER_START_DATE')['INVOLVED_STOCK'].sum()), df_ofertas[df_ofertas['SHIPPING_PAYMENT_TYPE'] =='free_shipping'].groupby('OFFER_START_DATE')['SHIPPING_PAYMENT_TYPE'].count()/df_ofertas.groupby('OFFER_START_DATE')['SHIPPING_PAYMENT_TYPE'].count())"
      ],
      "metadata": {
        "colab": {
          "base_uri": "https://localhost:8080/"
        },
        "id": "Mooh1HQn2KIO",
        "outputId": "5f781851-2fee-400d-c89f-1bdc0e7ac9c1"
      },
      "execution_count": 91,
      "outputs": [
        {
          "output_type": "execute_result",
          "data": {
            "text/plain": [
              "array([[1.        , 0.11213633],\n",
              "       [0.11213633, 1.        ]])"
            ]
          },
          "metadata": {},
          "execution_count": 91
        }
      ]
    },
    {
      "cell_type": "markdown",
      "source": [
        "#### Análise nível agrupamento"
      ],
      "metadata": {
        "id": "PzYqbV-zqzS7"
      }
    },
    {
      "cell_type": "markdown",
      "source": [
        "Dentro da data de melhor desempenho (2021-07-21), podemos observar as categorias de produtos melhores sucedidas. Inclusive, dentro do critério de menor estoque remanescente relativo, obervamos que suplementos foi 100% bem sucedido já que todo o estoque foi vendido na oferta da data."
      ],
      "metadata": {
        "id": "x0yYMzKbogL-"
      }
    },
    {
      "cell_type": "code",
      "source": [
        "(df_ofertas[df_ofertas['OFFER_START_DATE']=='2021-07-21'].groupby('DOM_DOMAIN_AGG1')['REMAINING_STOCK_AFTER_END'\n",
        "].sum()/df_ofertas[df_ofertas['OFFER_START_DATE']=='2021-07-21'].groupby('DOM_DOMAIN_AGG1')['INVOLVED_STOCK'].sum(\n",
        "    )).sort_values() [0:10]\n",
        "\n"
      ],
      "metadata": {
        "colab": {
          "base_uri": "https://localhost:8080/"
        },
        "id": "FrTgWgLdn9Co",
        "outputId": "4be80154-5d3f-4f02-9e7a-e88801a104b3"
      },
      "execution_count": 35,
      "outputs": [
        {
          "output_type": "execute_result",
          "data": {
            "text/plain": [
              "DOM_DOMAIN_AGG1\n",
              "SUPLEMENTS          0.000000\n",
              "WHEELS & TIRES      0.400000\n",
              "AUTOPARTS           0.624096\n",
              "INDUSTRY            0.633333\n",
              "PHARMACEUTICS       0.681265\n",
              "BEAUTY EQUIPMENT    0.701799\n",
              "SPORTS              0.713287\n",
              "PERSONAL HYGIENE    0.720000\n",
              "COMPUTERS           0.766497\n",
              "PERSONAL CARE       0.778351\n",
              "dtype: float64"
            ]
          },
          "metadata": {},
          "execution_count": 35
        }
      ]
    },
    {
      "cell_type": "markdown",
      "source": [
        "##### Análise nível produto"
      ],
      "metadata": {
        "id": "25HtzZFjq7YC"
      }
    },
    {
      "cell_type": "markdown",
      "source": [
        "Descendo ainda mais um nível, dentro da data de melhor desempenho (2021-07-21) e dentro da categoria de melhor desempenho (SUPLEMENTS), podemos observar um único produto, o qual evidentemente também foi 100% bem sucedido."
      ],
      "metadata": {
        "id": "WhzWg95vqXw7"
      }
    },
    {
      "cell_type": "code",
      "source": [
        "(df_ofertas[(df_ofertas['OFFER_START_DATE']=='2021-07-21') & (df_ofertas['DOM_DOMAIN_AGG1']=='SUPLEMENTS')].groupby('DOMAIN_ID')['REMAINING_STOCK_AFTER_END'\n",
        "].sum()/df_ofertas[(df_ofertas['OFFER_START_DATE']=='2021-07-21')& (df_ofertas['DOM_DOMAIN_AGG1']=='SUPLEMENTS')].groupby('DOMAIN_ID')['INVOLVED_STOCK'].sum(\n",
        "    ))\n",
        "\n"
      ],
      "metadata": {
        "colab": {
          "base_uri": "https://localhost:8080/"
        },
        "id": "odCu8Z8VpSTx",
        "outputId": "17219569-29b0-4d55-fc70-f3ee2c5bcc77"
      },
      "execution_count": 42,
      "outputs": [
        {
          "output_type": "execute_result",
          "data": {
            "text/plain": [
              "DOMAIN_ID\n",
              "MLM-SUPPLEMENTS    0.0\n",
              "dtype: float64"
            ]
          },
          "metadata": {},
          "execution_count": 42
        }
      ]
    },
    {
      "cell_type": "markdown",
      "source": [
        "## Datas com piores desempenhos"
      ],
      "metadata": {
        "id": "rR7i7YFfrIR9"
      }
    },
    {
      "cell_type": "markdown",
      "source": [
        "Em contrapartida, podemos observar as datas com maior estoque relativo remanescente, o que nos evidencializa as datas com piores performances de campanha."
      ],
      "metadata": {
        "id": "m3o95ZWylpMQ"
      }
    },
    {
      "cell_type": "code",
      "source": [
        "(df_ofertas.groupby('OFFER_START_DATE')['REMAINING_STOCK_AFTER_END'].sum()/df_ofertas.\n",
        " groupby('OFFER_START_DATE')['INVOLVED_STOCK'].sum()).sort_values(ascending=False)[0:10]\n"
      ],
      "metadata": {
        "colab": {
          "base_uri": "https://localhost:8080/"
        },
        "id": "B-kKedQolS60",
        "outputId": "55742d47-24f8-4fb4-b61a-7c0ccf2b5d08"
      },
      "execution_count": 26,
      "outputs": [
        {
          "output_type": "execute_result",
          "data": {
            "text/plain": [
              "OFFER_START_DATE\n",
              "2021-07-08    0.926366\n",
              "2021-07-09    0.924997\n",
              "2021-07-06    0.923602\n",
              "2021-07-07    0.921423\n",
              "2021-06-11    0.917159\n",
              "2021-07-05    0.912888\n",
              "2021-07-10    0.911871\n",
              "2021-06-02    0.911348\n",
              "2021-06-27    0.909960\n",
              "2021-06-30    0.907415\n",
              "dtype: float64"
            ]
          },
          "metadata": {},
          "execution_count": 26
        }
      ]
    },
    {
      "cell_type": "markdown",
      "source": [
        "### Análise nível agrupamento\n"
      ],
      "metadata": {
        "id": "Qc5ZN791mMEP"
      }
    },
    {
      "cell_type": "markdown",
      "source": [
        "  Filtrando a data de pior desempenho, podemos observar que as categorias de pneus, limpeza e comida pet tiveram a pior performance não vendendo nenhum produto nessa data."
      ],
      "metadata": {
        "id": "Ar3T1j-Cruq3"
      }
    },
    {
      "cell_type": "code",
      "source": [
        "(df_ofertas[df_ofertas['OFFER_START_DATE']=='2021-07-08'].groupby('DOM_DOMAIN_AGG1')['REMAINING_STOCK_AFTER_END'\n",
        "].sum()/df_ofertas[df_ofertas['OFFER_START_DATE']=='2021-07-08'].groupby('DOM_DOMAIN_AGG1')['INVOLVED_STOCK'].sum(\n",
        "    )).sort_values(ascending= False) [0:10]\n",
        "\n"
      ],
      "metadata": {
        "colab": {
          "base_uri": "https://localhost:8080/"
        },
        "id": "YRa8YpFErb81",
        "outputId": "3cacc28f-0296-4fc9-d28e-f3a896c93e47"
      },
      "execution_count": 45,
      "outputs": [
        {
          "output_type": "execute_result",
          "data": {
            "text/plain": [
              "DOM_DOMAIN_AGG1\n",
              "WHEELS & TIRES            1.000000\n",
              "CLEANING                  1.000000\n",
              "PETS FOOD                 1.000000\n",
              "TOYS AND GAMES            0.994487\n",
              "FOOTWEAR                  0.970711\n",
              "SPORTS                    0.951416\n",
              "PERSONAL HYGIENE          0.949527\n",
              "SECURITY                  0.948276\n",
              "HOME&DECOR                0.948095\n",
              "TOOLS AND CONSTRUCTION    0.944882\n",
              "dtype: float64"
            ]
          },
          "metadata": {},
          "execution_count": 45
        }
      ]
    },
    {
      "cell_type": "markdown",
      "source": [
        "### Análise nível produto"
      ],
      "metadata": {
        "id": "7VXyzVhEmAf4"
      }
    },
    {
      "cell_type": "markdown",
      "source": [
        "Pegando como exemplo, a categoria de pneus, observamos novamente um único produto e claramente com nenhuma venda."
      ],
      "metadata": {
        "id": "ZdsFFn7-sthB"
      }
    },
    {
      "cell_type": "code",
      "source": [
        "(df_ofertas[(df_ofertas['OFFER_START_DATE']=='2021-07-08') & (df_ofertas['DOM_DOMAIN_AGG1']=='WHEELS & TIRES')].groupby('DOMAIN_ID')['REMAINING_STOCK_AFTER_END'\n",
        "].sum()/df_ofertas[(df_ofertas['OFFER_START_DATE']=='2021-07-08')& (df_ofertas['DOM_DOMAIN_AGG1']=='WHEELS & TIRES')].groupby('DOMAIN_ID')['INVOLVED_STOCK'].sum(\n",
        "    ))\n",
        "\n"
      ],
      "metadata": {
        "colab": {
          "base_uri": "https://localhost:8080/"
        },
        "id": "Pcp0f7K1sfA3",
        "outputId": "cd8547fa-5afe-4689-88ee-f36d222558b5"
      },
      "execution_count": 46,
      "outputs": [
        {
          "output_type": "execute_result",
          "data": {
            "text/plain": [
              "DOMAIN_ID\n",
              "MLM-AUTOMOTIVE_TIRES    1.0\n",
              "dtype: float64"
            ]
          },
          "metadata": {},
          "execution_count": 46
        }
      ]
    },
    {
      "cell_type": "markdown",
      "source": [
        "# Análise segmentada por produtos"
      ],
      "metadata": {
        "id": "j2txzzt6mBLT"
      }
    },
    {
      "cell_type": "markdown",
      "source": [
        "## melhores desempenhos"
      ],
      "metadata": {
        "id": "jORlnnB54RJ7"
      }
    },
    {
      "cell_type": "markdown",
      "source": [
        "Abaixo, podemos observar os produtos com menor estoque relativo remanescente, o que nos evidencializa as melhores performances de campanha.\n",
        "\n",
        "Aqui podemos identificar um problema, já que alguns produtos venderam em maior quantidade do que estava fisicamente disponível em estoque.\n",
        "\n"
      ],
      "metadata": {
        "id": "7t9QOwKem5-l"
      }
    },
    {
      "cell_type": "code",
      "source": [
        "(df_ofertas.groupby(['DOMAIN_ID',])['REMAINING_STOCK_AFTER_END'].sum()/df_ofertas.groupby(['DOMAIN_ID',])['INVOLVED_STOCK'].sum(\n",
        "\n",
        ")).sort_values() [0:20]\n",
        "\n"
      ],
      "metadata": {
        "colab": {
          "base_uri": "https://localhost:8080/"
        },
        "id": "GzRlCUG5mNK8",
        "outputId": "1a9137c1-2558-4d44-c33e-52dfba6a6a90"
      },
      "execution_count": 94,
      "outputs": [
        {
          "output_type": "execute_result",
          "data": {
            "text/plain": [
              "DOMAIN_ID\n",
              "MLM-NASAL_CPAP_MASKS                     -2.000000\n",
              "MLM-BLEACHES                             -0.666667\n",
              "MLM-CAMERA_STRAPS                        -0.600000\n",
              "MLM-KITCHEN_POTHOLDERS_AND_OVEN_MITTS    -0.600000\n",
              "MLM-KITCHEN_PAPER_TOWELS                 -0.400000\n",
              "MLM-TEA_INFUSERS                         -0.400000\n",
              "MLM-ESOTERIC_PENDULUMS                   -0.200000\n",
              "MLM-LAUNDRY_BAR_SOAPS                    -0.118182\n",
              "MLM-LINEMAN_PLIERS                        0.000000\n",
              "MLM-INSECT_KILLER_LIGHTS                  0.000000\n",
              "MLM-MOTORCYCLE_FENDER_SUPPORT_BRACKETS    0.000000\n",
              "MLM-STYLUSES                              0.000000\n",
              "MLM-LASER_POINTERS                        0.000000\n",
              "MLM-BASKET_BALLS                          0.000000\n",
              "MLM-WASHING_AND_DRYER_MACHINE_COVERS      0.000000\n",
              "MLM-BONGS                                 0.000000\n",
              "MLM-COMBS                                 0.000000\n",
              "MLM-BICYCLE_SEAT_COVERS                   0.000000\n",
              "MLM-SHAKER_BOTTLES                        0.000000\n",
              "MLM-LOCK_PICKS                            0.000000\n",
              "dtype: float64"
            ]
          },
          "metadata": {},
          "execution_count": 94
        }
      ]
    },
    {
      "cell_type": "markdown",
      "source": [
        "Poderiamos tentar identificar se houve alguma mudança de estratégia como queda de preço ou mesmo o oferecimento de frete grátis que provocou esse desempenho, porém o produto foi ofertado apenas uma vez, não sendo possível investigar o que teria acontecido em outro cenário."
      ],
      "metadata": {
        "id": "8xBlVHy8319N"
      }
    },
    {
      "cell_type": "code",
      "source": [
        "df_ofertas[df_ofertas['DOMAIN_ID'] == 'MLM-LINEMAN_PLIERS'].sort_values(by=\n",
        "                                                                  'OFFER_START_DATE')\n"
      ],
      "metadata": {
        "colab": {
          "base_uri": "https://localhost:8080/",
          "height": 118
        },
        "id": "uUIM6CiM3vwk",
        "outputId": "ef401654-1655-4c9c-bb17-2825e1c6eb97"
      },
      "execution_count": 97,
      "outputs": [
        {
          "output_type": "execute_result",
          "data": {
            "text/plain": [
              "      OFFER_START_DATE           OFFER_START_DTTM          OFFER_FINISH_DTTM  \\\n",
              "34937       2021-06-08  2021-06-08 13:00:00+00:00  2021-06-08 18:05:26+00:00   \n",
              "\n",
              "           OFFER_TYPE  INVOLVED_STOCK  REMAINING_STOCK_AFTER_END  SOLD_AMOUNT  \\\n",
              "34937  lightning_deal              15                          0         25.7   \n",
              "\n",
              "       SOLD_QUANTITY ORIGIN SHIPPING_PAYMENT_TYPE         DOM_DOMAIN_AGG1  \\\n",
              "34937           15.0    NaN                  none  TOOLS AND CONSTRUCTION   \n",
              "\n",
              "              VERTICAL           DOMAIN_ID  REMAINING_STOCK_PERCENTAGE  \\\n",
              "34937  HOME & INDUSTRY  MLM-LINEMAN_PLIERS                         0.0   \n",
              "\n",
              "       UNIT_VALUE  \n",
              "34937    1.713333  "
            ],
            "text/html": [
              "\n",
              "  <div id=\"df-453f7f30-d860-4b5e-ac93-5e85ac85080f\" class=\"colab-df-container\">\n",
              "    <div>\n",
              "<style scoped>\n",
              "    .dataframe tbody tr th:only-of-type {\n",
              "        vertical-align: middle;\n",
              "    }\n",
              "\n",
              "    .dataframe tbody tr th {\n",
              "        vertical-align: top;\n",
              "    }\n",
              "\n",
              "    .dataframe thead th {\n",
              "        text-align: right;\n",
              "    }\n",
              "</style>\n",
              "<table border=\"1\" class=\"dataframe\">\n",
              "  <thead>\n",
              "    <tr style=\"text-align: right;\">\n",
              "      <th></th>\n",
              "      <th>OFFER_START_DATE</th>\n",
              "      <th>OFFER_START_DTTM</th>\n",
              "      <th>OFFER_FINISH_DTTM</th>\n",
              "      <th>OFFER_TYPE</th>\n",
              "      <th>INVOLVED_STOCK</th>\n",
              "      <th>REMAINING_STOCK_AFTER_END</th>\n",
              "      <th>SOLD_AMOUNT</th>\n",
              "      <th>SOLD_QUANTITY</th>\n",
              "      <th>ORIGIN</th>\n",
              "      <th>SHIPPING_PAYMENT_TYPE</th>\n",
              "      <th>DOM_DOMAIN_AGG1</th>\n",
              "      <th>VERTICAL</th>\n",
              "      <th>DOMAIN_ID</th>\n",
              "      <th>REMAINING_STOCK_PERCENTAGE</th>\n",
              "      <th>UNIT_VALUE</th>\n",
              "    </tr>\n",
              "  </thead>\n",
              "  <tbody>\n",
              "    <tr>\n",
              "      <th>34937</th>\n",
              "      <td>2021-06-08</td>\n",
              "      <td>2021-06-08 13:00:00+00:00</td>\n",
              "      <td>2021-06-08 18:05:26+00:00</td>\n",
              "      <td>lightning_deal</td>\n",
              "      <td>15</td>\n",
              "      <td>0</td>\n",
              "      <td>25.7</td>\n",
              "      <td>15.0</td>\n",
              "      <td>NaN</td>\n",
              "      <td>none</td>\n",
              "      <td>TOOLS AND CONSTRUCTION</td>\n",
              "      <td>HOME &amp; INDUSTRY</td>\n",
              "      <td>MLM-LINEMAN_PLIERS</td>\n",
              "      <td>0.0</td>\n",
              "      <td>1.713333</td>\n",
              "    </tr>\n",
              "  </tbody>\n",
              "</table>\n",
              "</div>\n",
              "    <div class=\"colab-df-buttons\">\n",
              "\n",
              "  <div class=\"colab-df-container\">\n",
              "    <button class=\"colab-df-convert\" onclick=\"convertToInteractive('df-453f7f30-d860-4b5e-ac93-5e85ac85080f')\"\n",
              "            title=\"Convert this dataframe to an interactive table.\"\n",
              "            style=\"display:none;\">\n",
              "\n",
              "  <svg xmlns=\"http://www.w3.org/2000/svg\" height=\"24px\" viewBox=\"0 -960 960 960\">\n",
              "    <path d=\"M120-120v-720h720v720H120Zm60-500h600v-160H180v160Zm220 220h160v-160H400v160Zm0 220h160v-160H400v160ZM180-400h160v-160H180v160Zm440 0h160v-160H620v160ZM180-180h160v-160H180v160Zm440 0h160v-160H620v160Z\"/>\n",
              "  </svg>\n",
              "    </button>\n",
              "\n",
              "  <style>\n",
              "    .colab-df-container {\n",
              "      display:flex;\n",
              "      gap: 12px;\n",
              "    }\n",
              "\n",
              "    .colab-df-convert {\n",
              "      background-color: #E8F0FE;\n",
              "      border: none;\n",
              "      border-radius: 50%;\n",
              "      cursor: pointer;\n",
              "      display: none;\n",
              "      fill: #1967D2;\n",
              "      height: 32px;\n",
              "      padding: 0 0 0 0;\n",
              "      width: 32px;\n",
              "    }\n",
              "\n",
              "    .colab-df-convert:hover {\n",
              "      background-color: #E2EBFA;\n",
              "      box-shadow: 0px 1px 2px rgba(60, 64, 67, 0.3), 0px 1px 3px 1px rgba(60, 64, 67, 0.15);\n",
              "      fill: #174EA6;\n",
              "    }\n",
              "\n",
              "    .colab-df-buttons div {\n",
              "      margin-bottom: 4px;\n",
              "    }\n",
              "\n",
              "    [theme=dark] .colab-df-convert {\n",
              "      background-color: #3B4455;\n",
              "      fill: #D2E3FC;\n",
              "    }\n",
              "\n",
              "    [theme=dark] .colab-df-convert:hover {\n",
              "      background-color: #434B5C;\n",
              "      box-shadow: 0px 1px 3px 1px rgba(0, 0, 0, 0.15);\n",
              "      filter: drop-shadow(0px 1px 2px rgba(0, 0, 0, 0.3));\n",
              "      fill: #FFFFFF;\n",
              "    }\n",
              "  </style>\n",
              "\n",
              "    <script>\n",
              "      const buttonEl =\n",
              "        document.querySelector('#df-453f7f30-d860-4b5e-ac93-5e85ac85080f button.colab-df-convert');\n",
              "      buttonEl.style.display =\n",
              "        google.colab.kernel.accessAllowed ? 'block' : 'none';\n",
              "\n",
              "      async function convertToInteractive(key) {\n",
              "        const element = document.querySelector('#df-453f7f30-d860-4b5e-ac93-5e85ac85080f');\n",
              "        const dataTable =\n",
              "          await google.colab.kernel.invokeFunction('convertToInteractive',\n",
              "                                                    [key], {});\n",
              "        if (!dataTable) return;\n",
              "\n",
              "        const docLinkHtml = 'Like what you see? Visit the ' +\n",
              "          '<a target=\"_blank\" href=https://colab.research.google.com/notebooks/data_table.ipynb>data table notebook</a>'\n",
              "          + ' to learn more about interactive tables.';\n",
              "        element.innerHTML = '';\n",
              "        dataTable['output_type'] = 'display_data';\n",
              "        await google.colab.output.renderOutput(dataTable, element);\n",
              "        const docLink = document.createElement('div');\n",
              "        docLink.innerHTML = docLinkHtml;\n",
              "        element.appendChild(docLink);\n",
              "      }\n",
              "    </script>\n",
              "  </div>\n",
              "\n",
              "\n",
              "    </div>\n",
              "  </div>\n"
            ]
          },
          "metadata": {},
          "execution_count": 97
        }
      ]
    },
    {
      "cell_type": "markdown",
      "source": [
        "## Piores desempenhos"
      ],
      "metadata": {
        "id": "C6ldWnad4YMe"
      }
    },
    {
      "cell_type": "markdown",
      "source": [
        "Em contrapartida, podemos observar os produtos com maior estoque relativo remanescente, o que nos evidencializa a princípio piores performances de campanha."
      ],
      "metadata": {
        "id": "XRHtzhFnnQuk"
      }
    },
    {
      "cell_type": "code",
      "source": [
        "(df_ofertas.groupby('DOMAIN_ID')['REMAINING_STOCK_AFTER_END'].sum()/df_ofertas.groupby('DOMAIN_ID')['INVOLVED_STOCK'].sum(\n",
        "\n",
        ")).sort_values(ascending=False) [0:10]\n",
        "\n"
      ],
      "metadata": {
        "colab": {
          "base_uri": "https://localhost:8080/"
        },
        "id": "sODkfyULnJ-o",
        "outputId": "56cd5bdf-3343-4a47-c38c-58823a188c28"
      },
      "execution_count": 99,
      "outputs": [
        {
          "output_type": "execute_result",
          "data": {
            "text/plain": [
              "DOMAIN_ID\n",
              "MLM-3D_PENS                      1.0\n",
              "MLM-LEARNING_MAZES               1.0\n",
              "MLM-CHRISTMAS_TREE_ORNAMENTS     1.0\n",
              "MLM-KITCHEN_WINE_VACUUM_PUMPS    1.0\n",
              "MLM-CHOPSTICKS                   1.0\n",
              "MLM-CHOCOLATE_WATERFALLS         1.0\n",
              "MLM-LADDERS                      1.0\n",
              "MLM-LAMP_HOLDERS                 1.0\n",
              "MLM-LAPTOP_KEYBOARDS             1.0\n",
              "MLM-LAPTOP_SKINS                 1.0\n",
              "dtype: float64"
            ]
          },
          "metadata": {},
          "execution_count": 99
        }
      ]
    },
    {
      "cell_type": "markdown",
      "source": [
        "Porém, quando observamos no detalhe o que houve com esse produto específico, notamos que a oferta ficou disponível apenas 32 segundos, o que pode significar uma falha sistêmica."
      ],
      "metadata": {
        "id": "CsCKVKLC4tyY"
      }
    },
    {
      "cell_type": "code",
      "source": [
        "df_ofertas[df_ofertas['DOMAIN_ID'] == 'MLM-3D_PENS'].sort_values(by=\n",
        "                                                                  'OFFER_START_DATE')\n"
      ],
      "metadata": {
        "colab": {
          "base_uri": "https://localhost:8080/",
          "height": 118
        },
        "id": "exex7TNHEcjF",
        "outputId": "5241ee05-cf11-4fc5-a583-79e0a8610a46"
      },
      "execution_count": 100,
      "outputs": [
        {
          "output_type": "execute_result",
          "data": {
            "text/plain": [
              "      OFFER_START_DATE           OFFER_START_DTTM          OFFER_FINISH_DTTM  \\\n",
              "39898       2021-06-01  2021-06-01 07:00:00+00:00  2021-06-01 07:00:32+00:00   \n",
              "\n",
              "           OFFER_TYPE  INVOLVED_STOCK  REMAINING_STOCK_AFTER_END  SOLD_AMOUNT  \\\n",
              "39898  lightning_deal              15                         15          NaN   \n",
              "\n",
              "       SOLD_QUANTITY ORIGIN SHIPPING_PAYMENT_TYPE DOM_DOMAIN_AGG1 VERTICAL  \\\n",
              "39898            NaN    NaN         free_shipping       COMPUTERS       CE   \n",
              "\n",
              "         DOMAIN_ID  REMAINING_STOCK_PERCENTAGE  UNIT_VALUE  \n",
              "39898  MLM-3D_PENS                         1.0         NaN  "
            ],
            "text/html": [
              "\n",
              "  <div id=\"df-9a48c06f-a3ad-43a7-a4cb-58198aad4d29\" class=\"colab-df-container\">\n",
              "    <div>\n",
              "<style scoped>\n",
              "    .dataframe tbody tr th:only-of-type {\n",
              "        vertical-align: middle;\n",
              "    }\n",
              "\n",
              "    .dataframe tbody tr th {\n",
              "        vertical-align: top;\n",
              "    }\n",
              "\n",
              "    .dataframe thead th {\n",
              "        text-align: right;\n",
              "    }\n",
              "</style>\n",
              "<table border=\"1\" class=\"dataframe\">\n",
              "  <thead>\n",
              "    <tr style=\"text-align: right;\">\n",
              "      <th></th>\n",
              "      <th>OFFER_START_DATE</th>\n",
              "      <th>OFFER_START_DTTM</th>\n",
              "      <th>OFFER_FINISH_DTTM</th>\n",
              "      <th>OFFER_TYPE</th>\n",
              "      <th>INVOLVED_STOCK</th>\n",
              "      <th>REMAINING_STOCK_AFTER_END</th>\n",
              "      <th>SOLD_AMOUNT</th>\n",
              "      <th>SOLD_QUANTITY</th>\n",
              "      <th>ORIGIN</th>\n",
              "      <th>SHIPPING_PAYMENT_TYPE</th>\n",
              "      <th>DOM_DOMAIN_AGG1</th>\n",
              "      <th>VERTICAL</th>\n",
              "      <th>DOMAIN_ID</th>\n",
              "      <th>REMAINING_STOCK_PERCENTAGE</th>\n",
              "      <th>UNIT_VALUE</th>\n",
              "    </tr>\n",
              "  </thead>\n",
              "  <tbody>\n",
              "    <tr>\n",
              "      <th>39898</th>\n",
              "      <td>2021-06-01</td>\n",
              "      <td>2021-06-01 07:00:00+00:00</td>\n",
              "      <td>2021-06-01 07:00:32+00:00</td>\n",
              "      <td>lightning_deal</td>\n",
              "      <td>15</td>\n",
              "      <td>15</td>\n",
              "      <td>NaN</td>\n",
              "      <td>NaN</td>\n",
              "      <td>NaN</td>\n",
              "      <td>free_shipping</td>\n",
              "      <td>COMPUTERS</td>\n",
              "      <td>CE</td>\n",
              "      <td>MLM-3D_PENS</td>\n",
              "      <td>1.0</td>\n",
              "      <td>NaN</td>\n",
              "    </tr>\n",
              "  </tbody>\n",
              "</table>\n",
              "</div>\n",
              "    <div class=\"colab-df-buttons\">\n",
              "\n",
              "  <div class=\"colab-df-container\">\n",
              "    <button class=\"colab-df-convert\" onclick=\"convertToInteractive('df-9a48c06f-a3ad-43a7-a4cb-58198aad4d29')\"\n",
              "            title=\"Convert this dataframe to an interactive table.\"\n",
              "            style=\"display:none;\">\n",
              "\n",
              "  <svg xmlns=\"http://www.w3.org/2000/svg\" height=\"24px\" viewBox=\"0 -960 960 960\">\n",
              "    <path d=\"M120-120v-720h720v720H120Zm60-500h600v-160H180v160Zm220 220h160v-160H400v160Zm0 220h160v-160H400v160ZM180-400h160v-160H180v160Zm440 0h160v-160H620v160ZM180-180h160v-160H180v160Zm440 0h160v-160H620v160Z\"/>\n",
              "  </svg>\n",
              "    </button>\n",
              "\n",
              "  <style>\n",
              "    .colab-df-container {\n",
              "      display:flex;\n",
              "      gap: 12px;\n",
              "    }\n",
              "\n",
              "    .colab-df-convert {\n",
              "      background-color: #E8F0FE;\n",
              "      border: none;\n",
              "      border-radius: 50%;\n",
              "      cursor: pointer;\n",
              "      display: none;\n",
              "      fill: #1967D2;\n",
              "      height: 32px;\n",
              "      padding: 0 0 0 0;\n",
              "      width: 32px;\n",
              "    }\n",
              "\n",
              "    .colab-df-convert:hover {\n",
              "      background-color: #E2EBFA;\n",
              "      box-shadow: 0px 1px 2px rgba(60, 64, 67, 0.3), 0px 1px 3px 1px rgba(60, 64, 67, 0.15);\n",
              "      fill: #174EA6;\n",
              "    }\n",
              "\n",
              "    .colab-df-buttons div {\n",
              "      margin-bottom: 4px;\n",
              "    }\n",
              "\n",
              "    [theme=dark] .colab-df-convert {\n",
              "      background-color: #3B4455;\n",
              "      fill: #D2E3FC;\n",
              "    }\n",
              "\n",
              "    [theme=dark] .colab-df-convert:hover {\n",
              "      background-color: #434B5C;\n",
              "      box-shadow: 0px 1px 3px 1px rgba(0, 0, 0, 0.15);\n",
              "      filter: drop-shadow(0px 1px 2px rgba(0, 0, 0, 0.3));\n",
              "      fill: #FFFFFF;\n",
              "    }\n",
              "  </style>\n",
              "\n",
              "    <script>\n",
              "      const buttonEl =\n",
              "        document.querySelector('#df-9a48c06f-a3ad-43a7-a4cb-58198aad4d29 button.colab-df-convert');\n",
              "      buttonEl.style.display =\n",
              "        google.colab.kernel.accessAllowed ? 'block' : 'none';\n",
              "\n",
              "      async function convertToInteractive(key) {\n",
              "        const element = document.querySelector('#df-9a48c06f-a3ad-43a7-a4cb-58198aad4d29');\n",
              "        const dataTable =\n",
              "          await google.colab.kernel.invokeFunction('convertToInteractive',\n",
              "                                                    [key], {});\n",
              "        if (!dataTable) return;\n",
              "\n",
              "        const docLinkHtml = 'Like what you see? Visit the ' +\n",
              "          '<a target=\"_blank\" href=https://colab.research.google.com/notebooks/data_table.ipynb>data table notebook</a>'\n",
              "          + ' to learn more about interactive tables.';\n",
              "        element.innerHTML = '';\n",
              "        dataTable['output_type'] = 'display_data';\n",
              "        await google.colab.output.renderOutput(dataTable, element);\n",
              "        const docLink = document.createElement('div');\n",
              "        docLink.innerHTML = docLinkHtml;\n",
              "        element.appendChild(docLink);\n",
              "      }\n",
              "    </script>\n",
              "  </div>\n",
              "\n",
              "\n",
              "    </div>\n",
              "  </div>\n"
            ]
          },
          "metadata": {},
          "execution_count": 100
        }
      ]
    },
    {
      "cell_type": "code",
      "source": [
        "df_ofertas[df_ofertas['DOMAIN_ID'] == 'MLM-LAPTOP_SKINS'].sort_values(by=\n",
        "                                                                  'OFFER_START_DATE')\n"
      ],
      "metadata": {
        "colab": {
          "base_uri": "https://localhost:8080/",
          "height": 118
        },
        "id": "fJJ2cDGJJOP5",
        "outputId": "24b9631f-f03e-49ff-f0e0-6235ff32ae1b"
      },
      "execution_count": 104,
      "outputs": [
        {
          "output_type": "execute_result",
          "data": {
            "text/plain": [
              "     OFFER_START_DATE           OFFER_START_DTTM          OFFER_FINISH_DTTM  \\\n",
              "9089       2021-06-06  2021-06-06 07:00:00+00:00  2021-06-06 13:00:04+00:00   \n",
              "\n",
              "          OFFER_TYPE  INVOLVED_STOCK  REMAINING_STOCK_AFTER_END  SOLD_AMOUNT  \\\n",
              "9089  lightning_deal               5                          5          NaN   \n",
              "\n",
              "      SOLD_QUANTITY ORIGIN SHIPPING_PAYMENT_TYPE DOM_DOMAIN_AGG1 VERTICAL  \\\n",
              "9089            NaN    NaN                  none       COMPUTERS       CE   \n",
              "\n",
              "             DOMAIN_ID  REMAINING_STOCK_PERCENTAGE  UNIT_VALUE  \n",
              "9089  MLM-LAPTOP_SKINS                         1.0         NaN  "
            ],
            "text/html": [
              "\n",
              "  <div id=\"df-fa8e36f9-f619-4e3e-8512-f5a11edde79d\" class=\"colab-df-container\">\n",
              "    <div>\n",
              "<style scoped>\n",
              "    .dataframe tbody tr th:only-of-type {\n",
              "        vertical-align: middle;\n",
              "    }\n",
              "\n",
              "    .dataframe tbody tr th {\n",
              "        vertical-align: top;\n",
              "    }\n",
              "\n",
              "    .dataframe thead th {\n",
              "        text-align: right;\n",
              "    }\n",
              "</style>\n",
              "<table border=\"1\" class=\"dataframe\">\n",
              "  <thead>\n",
              "    <tr style=\"text-align: right;\">\n",
              "      <th></th>\n",
              "      <th>OFFER_START_DATE</th>\n",
              "      <th>OFFER_START_DTTM</th>\n",
              "      <th>OFFER_FINISH_DTTM</th>\n",
              "      <th>OFFER_TYPE</th>\n",
              "      <th>INVOLVED_STOCK</th>\n",
              "      <th>REMAINING_STOCK_AFTER_END</th>\n",
              "      <th>SOLD_AMOUNT</th>\n",
              "      <th>SOLD_QUANTITY</th>\n",
              "      <th>ORIGIN</th>\n",
              "      <th>SHIPPING_PAYMENT_TYPE</th>\n",
              "      <th>DOM_DOMAIN_AGG1</th>\n",
              "      <th>VERTICAL</th>\n",
              "      <th>DOMAIN_ID</th>\n",
              "      <th>REMAINING_STOCK_PERCENTAGE</th>\n",
              "      <th>UNIT_VALUE</th>\n",
              "    </tr>\n",
              "  </thead>\n",
              "  <tbody>\n",
              "    <tr>\n",
              "      <th>9089</th>\n",
              "      <td>2021-06-06</td>\n",
              "      <td>2021-06-06 07:00:00+00:00</td>\n",
              "      <td>2021-06-06 13:00:04+00:00</td>\n",
              "      <td>lightning_deal</td>\n",
              "      <td>5</td>\n",
              "      <td>5</td>\n",
              "      <td>NaN</td>\n",
              "      <td>NaN</td>\n",
              "      <td>NaN</td>\n",
              "      <td>none</td>\n",
              "      <td>COMPUTERS</td>\n",
              "      <td>CE</td>\n",
              "      <td>MLM-LAPTOP_SKINS</td>\n",
              "      <td>1.0</td>\n",
              "      <td>NaN</td>\n",
              "    </tr>\n",
              "  </tbody>\n",
              "</table>\n",
              "</div>\n",
              "    <div class=\"colab-df-buttons\">\n",
              "\n",
              "  <div class=\"colab-df-container\">\n",
              "    <button class=\"colab-df-convert\" onclick=\"convertToInteractive('df-fa8e36f9-f619-4e3e-8512-f5a11edde79d')\"\n",
              "            title=\"Convert this dataframe to an interactive table.\"\n",
              "            style=\"display:none;\">\n",
              "\n",
              "  <svg xmlns=\"http://www.w3.org/2000/svg\" height=\"24px\" viewBox=\"0 -960 960 960\">\n",
              "    <path d=\"M120-120v-720h720v720H120Zm60-500h600v-160H180v160Zm220 220h160v-160H400v160Zm0 220h160v-160H400v160ZM180-400h160v-160H180v160Zm440 0h160v-160H620v160ZM180-180h160v-160H180v160Zm440 0h160v-160H620v160Z\"/>\n",
              "  </svg>\n",
              "    </button>\n",
              "\n",
              "  <style>\n",
              "    .colab-df-container {\n",
              "      display:flex;\n",
              "      gap: 12px;\n",
              "    }\n",
              "\n",
              "    .colab-df-convert {\n",
              "      background-color: #E8F0FE;\n",
              "      border: none;\n",
              "      border-radius: 50%;\n",
              "      cursor: pointer;\n",
              "      display: none;\n",
              "      fill: #1967D2;\n",
              "      height: 32px;\n",
              "      padding: 0 0 0 0;\n",
              "      width: 32px;\n",
              "    }\n",
              "\n",
              "    .colab-df-convert:hover {\n",
              "      background-color: #E2EBFA;\n",
              "      box-shadow: 0px 1px 2px rgba(60, 64, 67, 0.3), 0px 1px 3px 1px rgba(60, 64, 67, 0.15);\n",
              "      fill: #174EA6;\n",
              "    }\n",
              "\n",
              "    .colab-df-buttons div {\n",
              "      margin-bottom: 4px;\n",
              "    }\n",
              "\n",
              "    [theme=dark] .colab-df-convert {\n",
              "      background-color: #3B4455;\n",
              "      fill: #D2E3FC;\n",
              "    }\n",
              "\n",
              "    [theme=dark] .colab-df-convert:hover {\n",
              "      background-color: #434B5C;\n",
              "      box-shadow: 0px 1px 3px 1px rgba(0, 0, 0, 0.15);\n",
              "      filter: drop-shadow(0px 1px 2px rgba(0, 0, 0, 0.3));\n",
              "      fill: #FFFFFF;\n",
              "    }\n",
              "  </style>\n",
              "\n",
              "    <script>\n",
              "      const buttonEl =\n",
              "        document.querySelector('#df-fa8e36f9-f619-4e3e-8512-f5a11edde79d button.colab-df-convert');\n",
              "      buttonEl.style.display =\n",
              "        google.colab.kernel.accessAllowed ? 'block' : 'none';\n",
              "\n",
              "      async function convertToInteractive(key) {\n",
              "        const element = document.querySelector('#df-fa8e36f9-f619-4e3e-8512-f5a11edde79d');\n",
              "        const dataTable =\n",
              "          await google.colab.kernel.invokeFunction('convertToInteractive',\n",
              "                                                    [key], {});\n",
              "        if (!dataTable) return;\n",
              "\n",
              "        const docLinkHtml = 'Like what you see? Visit the ' +\n",
              "          '<a target=\"_blank\" href=https://colab.research.google.com/notebooks/data_table.ipynb>data table notebook</a>'\n",
              "          + ' to learn more about interactive tables.';\n",
              "        element.innerHTML = '';\n",
              "        dataTable['output_type'] = 'display_data';\n",
              "        await google.colab.output.renderOutput(dataTable, element);\n",
              "        const docLink = document.createElement('div');\n",
              "        docLink.innerHTML = docLinkHtml;\n",
              "        element.appendChild(docLink);\n",
              "      }\n",
              "    </script>\n",
              "  </div>\n",
              "\n",
              "\n",
              "    </div>\n",
              "  </div>\n"
            ]
          },
          "metadata": {},
          "execution_count": 104
        }
      ]
    },
    {
      "cell_type": "markdown",
      "source": [
        "## Dando zoom em um produto específico"
      ],
      "metadata": {
        "id": "rz7UhF-D5Y5i"
      }
    },
    {
      "cell_type": "markdown",
      "source": [
        "Podemos observar, ainda, filtrando um produto específico (comida de pássaro) que na data 22/06 o preço unitário atingiu seu mínimo e o estoque remanescente também foi o menor observado."
      ],
      "metadata": {
        "id": "fSTho7PF5qns"
      }
    },
    {
      "cell_type": "code",
      "source": [
        "df_ofertas[df_ofertas['DOMAIN_ID'] == 'MLM-BIRD_FOODS'].sort_values(by=\n",
        "                                                                  'OFFER_START_DATE')\n"
      ],
      "metadata": {
        "colab": {
          "base_uri": "https://localhost:8080/",
          "height": 361
        },
        "id": "dmd-i5S-5cWJ",
        "outputId": "b8909d6b-d6eb-4c42-8be1-230cabf3f790"
      },
      "execution_count": 105,
      "outputs": [
        {
          "output_type": "execute_result",
          "data": {
            "text/plain": [
              "      OFFER_START_DATE           OFFER_START_DTTM          OFFER_FINISH_DTTM  \\\n",
              "39622       2021-06-01  2021-06-01 19:00:00+00:00  2021-06-01 19:00:00+00:00   \n",
              "26193       2021-06-17  2021-06-17 16:00:00+00:00  2021-06-18 00:01:20+00:00   \n",
              "48091       2021-06-19  2021-06-19 14:00:00+00:00  2021-06-19 22:00:00+00:00   \n",
              "24808       2021-06-20  2021-06-20 15:00:00+00:00  2021-06-20 23:00:00+00:00   \n",
              "33956       2021-06-21  2021-06-21 13:00:00+00:00  2021-06-21 21:00:00+00:00   \n",
              "0           2021-06-22  2021-06-22 16:00:00+00:00  2021-06-22 23:02:43+00:00   \n",
              "\n",
              "           OFFER_TYPE  INVOLVED_STOCK  REMAINING_STOCK_AFTER_END  SOLD_AMOUNT  \\\n",
              "39622  lightning_deal              15                         15          NaN   \n",
              "26193  lightning_deal               7                          7          NaN   \n",
              "48091  lightning_deal               7                          1         4.78   \n",
              "24808  lightning_deal               8                          4         3.18   \n",
              "33956  lightning_deal               4                          4          NaN   \n",
              "0      lightning_deal               4                         -2         4.72   \n",
              "\n",
              "       SOLD_QUANTITY ORIGIN SHIPPING_PAYMENT_TYPE DOM_DOMAIN_AGG1 VERTICAL  \\\n",
              "39622            NaN    NaN                  none       PETS FOOD      CPG   \n",
              "26193            NaN      A                  none       PETS FOOD      CPG   \n",
              "48091            6.0      A                  none       PETS FOOD      CPG   \n",
              "24808            4.0      A                  none       PETS FOOD      CPG   \n",
              "33956            NaN      A                  none       PETS FOOD      CPG   \n",
              "0                6.0      A                  none       PETS FOOD      CPG   \n",
              "\n",
              "            DOMAIN_ID  REMAINING_STOCK_PERCENTAGE  UNIT_VALUE  \n",
              "39622  MLM-BIRD_FOODS                    1.000000         NaN  \n",
              "26193  MLM-BIRD_FOODS                    1.000000         NaN  \n",
              "48091  MLM-BIRD_FOODS                    0.142857    0.796667  \n",
              "24808  MLM-BIRD_FOODS                    0.500000    0.795000  \n",
              "33956  MLM-BIRD_FOODS                    1.000000         NaN  \n",
              "0      MLM-BIRD_FOODS                   -0.500000    0.786667  "
            ],
            "text/html": [
              "\n",
              "  <div id=\"df-8ebeb69f-da87-4c64-8ef5-a7b8f5be2bc3\" class=\"colab-df-container\">\n",
              "    <div>\n",
              "<style scoped>\n",
              "    .dataframe tbody tr th:only-of-type {\n",
              "        vertical-align: middle;\n",
              "    }\n",
              "\n",
              "    .dataframe tbody tr th {\n",
              "        vertical-align: top;\n",
              "    }\n",
              "\n",
              "    .dataframe thead th {\n",
              "        text-align: right;\n",
              "    }\n",
              "</style>\n",
              "<table border=\"1\" class=\"dataframe\">\n",
              "  <thead>\n",
              "    <tr style=\"text-align: right;\">\n",
              "      <th></th>\n",
              "      <th>OFFER_START_DATE</th>\n",
              "      <th>OFFER_START_DTTM</th>\n",
              "      <th>OFFER_FINISH_DTTM</th>\n",
              "      <th>OFFER_TYPE</th>\n",
              "      <th>INVOLVED_STOCK</th>\n",
              "      <th>REMAINING_STOCK_AFTER_END</th>\n",
              "      <th>SOLD_AMOUNT</th>\n",
              "      <th>SOLD_QUANTITY</th>\n",
              "      <th>ORIGIN</th>\n",
              "      <th>SHIPPING_PAYMENT_TYPE</th>\n",
              "      <th>DOM_DOMAIN_AGG1</th>\n",
              "      <th>VERTICAL</th>\n",
              "      <th>DOMAIN_ID</th>\n",
              "      <th>REMAINING_STOCK_PERCENTAGE</th>\n",
              "      <th>UNIT_VALUE</th>\n",
              "    </tr>\n",
              "  </thead>\n",
              "  <tbody>\n",
              "    <tr>\n",
              "      <th>39622</th>\n",
              "      <td>2021-06-01</td>\n",
              "      <td>2021-06-01 19:00:00+00:00</td>\n",
              "      <td>2021-06-01 19:00:00+00:00</td>\n",
              "      <td>lightning_deal</td>\n",
              "      <td>15</td>\n",
              "      <td>15</td>\n",
              "      <td>NaN</td>\n",
              "      <td>NaN</td>\n",
              "      <td>NaN</td>\n",
              "      <td>none</td>\n",
              "      <td>PETS FOOD</td>\n",
              "      <td>CPG</td>\n",
              "      <td>MLM-BIRD_FOODS</td>\n",
              "      <td>1.000000</td>\n",
              "      <td>NaN</td>\n",
              "    </tr>\n",
              "    <tr>\n",
              "      <th>26193</th>\n",
              "      <td>2021-06-17</td>\n",
              "      <td>2021-06-17 16:00:00+00:00</td>\n",
              "      <td>2021-06-18 00:01:20+00:00</td>\n",
              "      <td>lightning_deal</td>\n",
              "      <td>7</td>\n",
              "      <td>7</td>\n",
              "      <td>NaN</td>\n",
              "      <td>NaN</td>\n",
              "      <td>A</td>\n",
              "      <td>none</td>\n",
              "      <td>PETS FOOD</td>\n",
              "      <td>CPG</td>\n",
              "      <td>MLM-BIRD_FOODS</td>\n",
              "      <td>1.000000</td>\n",
              "      <td>NaN</td>\n",
              "    </tr>\n",
              "    <tr>\n",
              "      <th>48091</th>\n",
              "      <td>2021-06-19</td>\n",
              "      <td>2021-06-19 14:00:00+00:00</td>\n",
              "      <td>2021-06-19 22:00:00+00:00</td>\n",
              "      <td>lightning_deal</td>\n",
              "      <td>7</td>\n",
              "      <td>1</td>\n",
              "      <td>4.78</td>\n",
              "      <td>6.0</td>\n",
              "      <td>A</td>\n",
              "      <td>none</td>\n",
              "      <td>PETS FOOD</td>\n",
              "      <td>CPG</td>\n",
              "      <td>MLM-BIRD_FOODS</td>\n",
              "      <td>0.142857</td>\n",
              "      <td>0.796667</td>\n",
              "    </tr>\n",
              "    <tr>\n",
              "      <th>24808</th>\n",
              "      <td>2021-06-20</td>\n",
              "      <td>2021-06-20 15:00:00+00:00</td>\n",
              "      <td>2021-06-20 23:00:00+00:00</td>\n",
              "      <td>lightning_deal</td>\n",
              "      <td>8</td>\n",
              "      <td>4</td>\n",
              "      <td>3.18</td>\n",
              "      <td>4.0</td>\n",
              "      <td>A</td>\n",
              "      <td>none</td>\n",
              "      <td>PETS FOOD</td>\n",
              "      <td>CPG</td>\n",
              "      <td>MLM-BIRD_FOODS</td>\n",
              "      <td>0.500000</td>\n",
              "      <td>0.795000</td>\n",
              "    </tr>\n",
              "    <tr>\n",
              "      <th>33956</th>\n",
              "      <td>2021-06-21</td>\n",
              "      <td>2021-06-21 13:00:00+00:00</td>\n",
              "      <td>2021-06-21 21:00:00+00:00</td>\n",
              "      <td>lightning_deal</td>\n",
              "      <td>4</td>\n",
              "      <td>4</td>\n",
              "      <td>NaN</td>\n",
              "      <td>NaN</td>\n",
              "      <td>A</td>\n",
              "      <td>none</td>\n",
              "      <td>PETS FOOD</td>\n",
              "      <td>CPG</td>\n",
              "      <td>MLM-BIRD_FOODS</td>\n",
              "      <td>1.000000</td>\n",
              "      <td>NaN</td>\n",
              "    </tr>\n",
              "    <tr>\n",
              "      <th>0</th>\n",
              "      <td>2021-06-22</td>\n",
              "      <td>2021-06-22 16:00:00+00:00</td>\n",
              "      <td>2021-06-22 23:02:43+00:00</td>\n",
              "      <td>lightning_deal</td>\n",
              "      <td>4</td>\n",
              "      <td>-2</td>\n",
              "      <td>4.72</td>\n",
              "      <td>6.0</td>\n",
              "      <td>A</td>\n",
              "      <td>none</td>\n",
              "      <td>PETS FOOD</td>\n",
              "      <td>CPG</td>\n",
              "      <td>MLM-BIRD_FOODS</td>\n",
              "      <td>-0.500000</td>\n",
              "      <td>0.786667</td>\n",
              "    </tr>\n",
              "  </tbody>\n",
              "</table>\n",
              "</div>\n",
              "    <div class=\"colab-df-buttons\">\n",
              "\n",
              "  <div class=\"colab-df-container\">\n",
              "    <button class=\"colab-df-convert\" onclick=\"convertToInteractive('df-8ebeb69f-da87-4c64-8ef5-a7b8f5be2bc3')\"\n",
              "            title=\"Convert this dataframe to an interactive table.\"\n",
              "            style=\"display:none;\">\n",
              "\n",
              "  <svg xmlns=\"http://www.w3.org/2000/svg\" height=\"24px\" viewBox=\"0 -960 960 960\">\n",
              "    <path d=\"M120-120v-720h720v720H120Zm60-500h600v-160H180v160Zm220 220h160v-160H400v160Zm0 220h160v-160H400v160ZM180-400h160v-160H180v160Zm440 0h160v-160H620v160ZM180-180h160v-160H180v160Zm440 0h160v-160H620v160Z\"/>\n",
              "  </svg>\n",
              "    </button>\n",
              "\n",
              "  <style>\n",
              "    .colab-df-container {\n",
              "      display:flex;\n",
              "      gap: 12px;\n",
              "    }\n",
              "\n",
              "    .colab-df-convert {\n",
              "      background-color: #E8F0FE;\n",
              "      border: none;\n",
              "      border-radius: 50%;\n",
              "      cursor: pointer;\n",
              "      display: none;\n",
              "      fill: #1967D2;\n",
              "      height: 32px;\n",
              "      padding: 0 0 0 0;\n",
              "      width: 32px;\n",
              "    }\n",
              "\n",
              "    .colab-df-convert:hover {\n",
              "      background-color: #E2EBFA;\n",
              "      box-shadow: 0px 1px 2px rgba(60, 64, 67, 0.3), 0px 1px 3px 1px rgba(60, 64, 67, 0.15);\n",
              "      fill: #174EA6;\n",
              "    }\n",
              "\n",
              "    .colab-df-buttons div {\n",
              "      margin-bottom: 4px;\n",
              "    }\n",
              "\n",
              "    [theme=dark] .colab-df-convert {\n",
              "      background-color: #3B4455;\n",
              "      fill: #D2E3FC;\n",
              "    }\n",
              "\n",
              "    [theme=dark] .colab-df-convert:hover {\n",
              "      background-color: #434B5C;\n",
              "      box-shadow: 0px 1px 3px 1px rgba(0, 0, 0, 0.15);\n",
              "      filter: drop-shadow(0px 1px 2px rgba(0, 0, 0, 0.3));\n",
              "      fill: #FFFFFF;\n",
              "    }\n",
              "  </style>\n",
              "\n",
              "    <script>\n",
              "      const buttonEl =\n",
              "        document.querySelector('#df-8ebeb69f-da87-4c64-8ef5-a7b8f5be2bc3 button.colab-df-convert');\n",
              "      buttonEl.style.display =\n",
              "        google.colab.kernel.accessAllowed ? 'block' : 'none';\n",
              "\n",
              "      async function convertToInteractive(key) {\n",
              "        const element = document.querySelector('#df-8ebeb69f-da87-4c64-8ef5-a7b8f5be2bc3');\n",
              "        const dataTable =\n",
              "          await google.colab.kernel.invokeFunction('convertToInteractive',\n",
              "                                                    [key], {});\n",
              "        if (!dataTable) return;\n",
              "\n",
              "        const docLinkHtml = 'Like what you see? Visit the ' +\n",
              "          '<a target=\"_blank\" href=https://colab.research.google.com/notebooks/data_table.ipynb>data table notebook</a>'\n",
              "          + ' to learn more about interactive tables.';\n",
              "        element.innerHTML = '';\n",
              "        dataTable['output_type'] = 'display_data';\n",
              "        await google.colab.output.renderOutput(dataTable, element);\n",
              "        const docLink = document.createElement('div');\n",
              "        docLink.innerHTML = docLinkHtml;\n",
              "        element.appendChild(docLink);\n",
              "      }\n",
              "    </script>\n",
              "  </div>\n",
              "\n",
              "\n",
              "<div id=\"df-d3c42d2a-df36-4327-bb4d-8d0ea09a9102\">\n",
              "  <button class=\"colab-df-quickchart\" onclick=\"quickchart('df-d3c42d2a-df36-4327-bb4d-8d0ea09a9102')\"\n",
              "            title=\"Suggest charts\"\n",
              "            style=\"display:none;\">\n",
              "\n",
              "<svg xmlns=\"http://www.w3.org/2000/svg\" height=\"24px\"viewBox=\"0 0 24 24\"\n",
              "     width=\"24px\">\n",
              "    <g>\n",
              "        <path d=\"M19 3H5c-1.1 0-2 .9-2 2v14c0 1.1.9 2 2 2h14c1.1 0 2-.9 2-2V5c0-1.1-.9-2-2-2zM9 17H7v-7h2v7zm4 0h-2V7h2v10zm4 0h-2v-4h2v4z\"/>\n",
              "    </g>\n",
              "</svg>\n",
              "  </button>\n",
              "\n",
              "<style>\n",
              "  .colab-df-quickchart {\n",
              "      --bg-color: #E8F0FE;\n",
              "      --fill-color: #1967D2;\n",
              "      --hover-bg-color: #E2EBFA;\n",
              "      --hover-fill-color: #174EA6;\n",
              "      --disabled-fill-color: #AAA;\n",
              "      --disabled-bg-color: #DDD;\n",
              "  }\n",
              "\n",
              "  [theme=dark] .colab-df-quickchart {\n",
              "      --bg-color: #3B4455;\n",
              "      --fill-color: #D2E3FC;\n",
              "      --hover-bg-color: #434B5C;\n",
              "      --hover-fill-color: #FFFFFF;\n",
              "      --disabled-bg-color: #3B4455;\n",
              "      --disabled-fill-color: #666;\n",
              "  }\n",
              "\n",
              "  .colab-df-quickchart {\n",
              "    background-color: var(--bg-color);\n",
              "    border: none;\n",
              "    border-radius: 50%;\n",
              "    cursor: pointer;\n",
              "    display: none;\n",
              "    fill: var(--fill-color);\n",
              "    height: 32px;\n",
              "    padding: 0;\n",
              "    width: 32px;\n",
              "  }\n",
              "\n",
              "  .colab-df-quickchart:hover {\n",
              "    background-color: var(--hover-bg-color);\n",
              "    box-shadow: 0 1px 2px rgba(60, 64, 67, 0.3), 0 1px 3px 1px rgba(60, 64, 67, 0.15);\n",
              "    fill: var(--button-hover-fill-color);\n",
              "  }\n",
              "\n",
              "  .colab-df-quickchart-complete:disabled,\n",
              "  .colab-df-quickchart-complete:disabled:hover {\n",
              "    background-color: var(--disabled-bg-color);\n",
              "    fill: var(--disabled-fill-color);\n",
              "    box-shadow: none;\n",
              "  }\n",
              "\n",
              "  .colab-df-spinner {\n",
              "    border: 2px solid var(--fill-color);\n",
              "    border-color: transparent;\n",
              "    border-bottom-color: var(--fill-color);\n",
              "    animation:\n",
              "      spin 1s steps(1) infinite;\n",
              "  }\n",
              "\n",
              "  @keyframes spin {\n",
              "    0% {\n",
              "      border-color: transparent;\n",
              "      border-bottom-color: var(--fill-color);\n",
              "      border-left-color: var(--fill-color);\n",
              "    }\n",
              "    20% {\n",
              "      border-color: transparent;\n",
              "      border-left-color: var(--fill-color);\n",
              "      border-top-color: var(--fill-color);\n",
              "    }\n",
              "    30% {\n",
              "      border-color: transparent;\n",
              "      border-left-color: var(--fill-color);\n",
              "      border-top-color: var(--fill-color);\n",
              "      border-right-color: var(--fill-color);\n",
              "    }\n",
              "    40% {\n",
              "      border-color: transparent;\n",
              "      border-right-color: var(--fill-color);\n",
              "      border-top-color: var(--fill-color);\n",
              "    }\n",
              "    60% {\n",
              "      border-color: transparent;\n",
              "      border-right-color: var(--fill-color);\n",
              "    }\n",
              "    80% {\n",
              "      border-color: transparent;\n",
              "      border-right-color: var(--fill-color);\n",
              "      border-bottom-color: var(--fill-color);\n",
              "    }\n",
              "    90% {\n",
              "      border-color: transparent;\n",
              "      border-bottom-color: var(--fill-color);\n",
              "    }\n",
              "  }\n",
              "</style>\n",
              "\n",
              "  <script>\n",
              "    async function quickchart(key) {\n",
              "      const quickchartButtonEl =\n",
              "        document.querySelector('#' + key + ' button');\n",
              "      quickchartButtonEl.disabled = true;  // To prevent multiple clicks.\n",
              "      quickchartButtonEl.classList.add('colab-df-spinner');\n",
              "      try {\n",
              "        const charts = await google.colab.kernel.invokeFunction(\n",
              "            'suggestCharts', [key], {});\n",
              "      } catch (error) {\n",
              "        console.error('Error during call to suggestCharts:', error);\n",
              "      }\n",
              "      quickchartButtonEl.classList.remove('colab-df-spinner');\n",
              "      quickchartButtonEl.classList.add('colab-df-quickchart-complete');\n",
              "    }\n",
              "    (() => {\n",
              "      let quickchartButtonEl =\n",
              "        document.querySelector('#df-d3c42d2a-df36-4327-bb4d-8d0ea09a9102 button');\n",
              "      quickchartButtonEl.style.display =\n",
              "        google.colab.kernel.accessAllowed ? 'block' : 'none';\n",
              "    })();\n",
              "  </script>\n",
              "</div>\n",
              "\n",
              "    </div>\n",
              "  </div>\n"
            ]
          },
          "metadata": {},
          "execution_count": 105
        }
      ]
    }
  ]
}